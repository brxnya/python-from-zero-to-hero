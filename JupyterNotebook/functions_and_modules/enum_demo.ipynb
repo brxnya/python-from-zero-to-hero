{
 "cells": [
  {
   "cell_type": "code",
   "execution_count": 1,
   "id": "ad7514f0",
   "metadata": {},
   "outputs": [],
   "source": [
    "from enum import Enum"
   ]
  },
  {
   "cell_type": "code",
   "execution_count": 2,
   "id": "a4bd0746",
   "metadata": {},
   "outputs": [],
   "source": [
    "class TrafficLight(Enum):\n",
    "    RED = 1\n",
    "    YELLOW = 2\n",
    "    GREEN = 3"
   ]
  },
  {
   "cell_type": "code",
   "execution_count": 3,
   "id": "d0f425f5",
   "metadata": {},
   "outputs": [
    {
     "data": {
      "text/plain": [
       "<TrafficLight.RED: 1>"
      ]
     },
     "execution_count": 3,
     "metadata": {},
     "output_type": "execute_result"
    }
   ],
   "source": [
    "TrafficLight.RED"
   ]
  },
  {
   "cell_type": "code",
   "execution_count": 4,
   "id": "ca07884e",
   "metadata": {},
   "outputs": [
    {
     "name": "stdout",
     "output_type": "stream",
     "text": [
      "TrafficLight.RED\n"
     ]
    }
   ],
   "source": [
    "print(TrafficLight.RED)"
   ]
  },
  {
   "cell_type": "code",
   "execution_count": 5,
   "id": "14fa316f",
   "metadata": {},
   "outputs": [
    {
     "name": "stdout",
     "output_type": "stream",
     "text": [
      "RED\n",
      "1\n"
     ]
    }
   ],
   "source": [
    "print(TrafficLight.RED.name)\n",
    "print(TrafficLight.RED.value)"
   ]
  },
  {
   "cell_type": "code",
   "execution_count": 6,
   "id": "7aa0b5dc",
   "metadata": {},
   "outputs": [
    {
     "name": "stdout",
     "output_type": "stream",
     "text": [
      "TrafficLight.RED\n",
      "TrafficLight.YELLOW\n",
      "TrafficLight.GREEN\n"
     ]
    }
   ],
   "source": [
    "for c in TrafficLight:\n",
    "    print(c)"
   ]
  },
  {
   "cell_type": "code",
   "execution_count": 7,
   "id": "fa89356a",
   "metadata": {},
   "outputs": [
    {
     "data": {
      "text/plain": [
       "<TrafficLight.RED: 1>"
      ]
     },
     "execution_count": 7,
     "metadata": {},
     "output_type": "execute_result"
    }
   ],
   "source": [
    "TrafficLight(1)"
   ]
  },
  {
   "cell_type": "code",
   "execution_count": 8,
   "id": "2dbcd954",
   "metadata": {},
   "outputs": [
    {
     "data": {
      "text/plain": [
       "<TrafficLight.RED: 1>"
      ]
     },
     "execution_count": 8,
     "metadata": {},
     "output_type": "execute_result"
    }
   ],
   "source": [
    "TrafficLight['RED']"
   ]
  },
  {
   "cell_type": "code",
   "execution_count": 10,
   "id": "414dd985",
   "metadata": {},
   "outputs": [
    {
     "name": "stdout",
     "output_type": "stream",
     "text": [
      "True\n",
      "False\n"
     ]
    }
   ],
   "source": [
    "print(TrafficLight.RED == TrafficLight.RED)\n",
    "print(TrafficLight.RED == TrafficLight.GREEN)"
   ]
  },
  {
   "cell_type": "code",
   "execution_count": 11,
   "id": "358bccc0",
   "metadata": {},
   "outputs": [],
   "source": [
    "from enum import IntEnum"
   ]
  },
  {
   "cell_type": "code",
   "execution_count": 12,
   "id": "8c6dce24",
   "metadata": {},
   "outputs": [],
   "source": [
    "class Priority(IntEnum):\n",
    "    LOW = 1\n",
    "    NORMAL = 2\n",
    "    HIGH = 3"
   ]
  },
  {
   "cell_type": "code",
   "execution_count": 13,
   "id": "da6a7fb2",
   "metadata": {},
   "outputs": [
    {
     "data": {
      "text/plain": [
       "True"
      ]
     },
     "execution_count": 13,
     "metadata": {},
     "output_type": "execute_result"
    }
   ],
   "source": [
    "Priority.LOW < Priority.NORMAL"
   ]
  },
  {
   "cell_type": "code",
   "execution_count": 14,
   "id": "83a9e3af",
   "metadata": {},
   "outputs": [],
   "source": [
    "from enum import IntFlag\n",
    "class Color(IntFlag):\n",
    "    RED = 1\n",
    "    GREEN = 2\n",
    "    BLUE = 4"
   ]
  },
  {
   "cell_type": "code",
   "execution_count": 15,
   "id": "ecc228b9",
   "metadata": {},
   "outputs": [],
   "source": [
    "combination = Color.RED | Color.GREEN"
   ]
  },
  {
   "cell_type": "code",
   "execution_count": 16,
   "id": "48d327d6",
   "metadata": {},
   "outputs": [
    {
     "data": {
      "text/plain": [
       "<Color.GREEN|RED: 3>"
      ]
     },
     "execution_count": 16,
     "metadata": {},
     "output_type": "execute_result"
    }
   ],
   "source": [
    "combination"
   ]
  },
  {
   "cell_type": "code",
   "execution_count": 17,
   "id": "9ddc3995",
   "metadata": {},
   "outputs": [
    {
     "data": {
      "text/plain": [
       "True"
      ]
     },
     "execution_count": 17,
     "metadata": {},
     "output_type": "execute_result"
    }
   ],
   "source": [
    "Color.RED in combination"
   ]
  },
  {
   "cell_type": "code",
   "execution_count": 18,
   "id": "7eecdb24",
   "metadata": {},
   "outputs": [],
   "source": [
    "class Planet(Enum):\n",
    "    MERCURY = (3.303e+23, 2.4397e6)\n",
    "    EARTH = (5.976e+24, 6.37814e6)\n",
    "    JUPITER = (1.9e+27, 7.1492e7)\n",
    "    \n",
    "    def __init__(self, mass, radius):\n",
    "        self.mass = mass\n",
    "        self.radius = radius\n",
    "        \n",
    "    @property\n",
    "    def surface_gravity(self):\n",
    "        G = 6.67300E-11\n",
    "        return G * self.mass / (self.radius * self.radius)"
   ]
  },
  {
   "cell_type": "code",
   "execution_count": 19,
   "id": "bd7f5edc",
   "metadata": {},
   "outputs": [
    {
     "data": {
      "text/plain": [
       "(5.976e+24, 6378140.0)"
      ]
     },
     "execution_count": 19,
     "metadata": {},
     "output_type": "execute_result"
    }
   ],
   "source": [
    "Planet.EARTH.value"
   ]
  },
  {
   "cell_type": "code",
   "execution_count": 20,
   "id": "7bfff629",
   "metadata": {},
   "outputs": [
    {
     "data": {
      "text/plain": [
       "9.802652743337129"
      ]
     },
     "execution_count": 20,
     "metadata": {},
     "output_type": "execute_result"
    }
   ],
   "source": [
    "Planet.EARTH.surface_gravity"
   ]
  },
  {
   "cell_type": "code",
   "execution_count": 21,
   "id": "9f66941f",
   "metadata": {},
   "outputs": [
    {
     "data": {
      "text/plain": [
       "24.80617666947324"
      ]
     },
     "execution_count": 21,
     "metadata": {},
     "output_type": "execute_result"
    }
   ],
   "source": [
    "Planet.JUPITER.surface_gravity"
   ]
  },
  {
   "cell_type": "code",
   "execution_count": 22,
   "id": "c8db9396",
   "metadata": {},
   "outputs": [
    {
     "data": {
      "text/plain": [
       "3.7030267229659395"
      ]
     },
     "execution_count": 22,
     "metadata": {},
     "output_type": "execute_result"
    }
   ],
   "source": [
    "Planet.MERCURY.surface_gravity"
   ]
  },
  {
   "cell_type": "code",
   "execution_count": null,
   "id": "51d1f757",
   "metadata": {},
   "outputs": [],
   "source": []
  }
 ],
 "metadata": {
  "kernelspec": {
   "display_name": "Python 3 (ipykernel)",
   "language": "python",
   "name": "python3"
  },
  "language_info": {
   "codemirror_mode": {
    "name": "ipython",
    "version": 3
   },
   "file_extension": ".py",
   "mimetype": "text/x-python",
   "name": "python",
   "nbconvert_exporter": "python",
   "pygments_lexer": "ipython3",
   "version": "3.10.9"
  }
 },
 "nbformat": 4,
 "nbformat_minor": 5
}
