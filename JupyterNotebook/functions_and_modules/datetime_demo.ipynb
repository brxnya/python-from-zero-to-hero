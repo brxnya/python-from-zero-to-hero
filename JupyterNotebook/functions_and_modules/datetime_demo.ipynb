{
 "cells": [
  {
   "cell_type": "code",
   "execution_count": 25,
   "id": "a32f0b60",
   "metadata": {},
   "outputs": [],
   "source": [
    "from datetime import datetime\n",
    "from datetime import date\n",
    "from datetime import time\n",
    "from datetime import timedelta"
   ]
  },
  {
   "cell_type": "code",
   "execution_count": 26,
   "id": "470df152",
   "metadata": {},
   "outputs": [
    {
     "name": "stdout",
     "output_type": "stream",
     "text": [
      "2019-03-12\n",
      "2019\n",
      "3\n",
      "12\n"
     ]
    }
   ],
   "source": [
    "d1 = date(2019, 3, 12)\n",
    "print(d1)\n",
    "print(d1.year)\n",
    "print(d1.month)\n",
    "print(d1.day)"
   ]
  },
  {
   "cell_type": "code",
   "execution_count": 27,
   "id": "e5869715",
   "metadata": {},
   "outputs": [
    {
     "name": "stdout",
     "output_type": "stream",
     "text": [
      "23:10:59\n",
      "23\n",
      "10\n",
      "59\n"
     ]
    }
   ],
   "source": [
    "t1 = time(23, 10, 59)\n",
    "print(t1)\n",
    "print(t1.hour)\n",
    "print(t1.minute)\n",
    "print(t1.second)"
   ]
  },
  {
   "cell_type": "code",
   "execution_count": 28,
   "id": "d7a4fbec",
   "metadata": {},
   "outputs": [
    {
     "name": "stdout",
     "output_type": "stream",
     "text": [
      "2023-08-01\n"
     ]
    }
   ],
   "source": [
    "print(date.today())"
   ]
  },
  {
   "cell_type": "code",
   "execution_count": 29,
   "id": "0f6075ff",
   "metadata": {},
   "outputs": [
    {
     "name": "stdout",
     "output_type": "stream",
     "text": [
      "9999-12-31\n",
      "0001-01-01\n",
      "23:59:59.999999\n",
      "00:00:00\n"
     ]
    }
   ],
   "source": [
    "print(date.max)\n",
    "print(date.min)\n",
    "print(time.max)\n",
    "print(time.min)"
   ]
  },
  {
   "cell_type": "code",
   "execution_count": 30,
   "id": "bdf5ef16",
   "metadata": {},
   "outputs": [
    {
     "name": "stdout",
     "output_type": "stream",
     "text": [
      "2019-03-12 15:17:00\n"
     ]
    }
   ],
   "source": [
    "dt = datetime(2019, 3, 12, 15, 17)\n",
    "print(dt)"
   ]
  },
  {
   "cell_type": "code",
   "execution_count": 31,
   "id": "5059967d",
   "metadata": {},
   "outputs": [
    {
     "name": "stdout",
     "output_type": "stream",
     "text": [
      "2019\n",
      "15\n"
     ]
    }
   ],
   "source": [
    "print(dt.date().year)\n",
    "print(dt.time().hour)"
   ]
  },
  {
   "cell_type": "code",
   "execution_count": 32,
   "id": "e014e0e8",
   "metadata": {},
   "outputs": [
    {
     "name": "stdout",
     "output_type": "stream",
     "text": [
      "9999-12-31 23:59:59.999999\n",
      "0001-01-01 00:00:00\n"
     ]
    }
   ],
   "source": [
    "print(datetime.max)\n",
    "print(datetime.min)"
   ]
  },
  {
   "cell_type": "code",
   "execution_count": 33,
   "id": "761092d0",
   "metadata": {},
   "outputs": [
    {
     "name": "stdout",
     "output_type": "stream",
     "text": [
      "2023-08-01 12:12:14.720551\n"
     ]
    }
   ],
   "source": [
    "now = datetime.now()\n",
    "print(now)"
   ]
  },
  {
   "cell_type": "code",
   "execution_count": 34,
   "id": "8fda5922",
   "metadata": {},
   "outputs": [
    {
     "name": "stdout",
     "output_type": "stream",
     "text": [
      "2023\n"
     ]
    }
   ],
   "source": [
    "print(now.year)"
   ]
  },
  {
   "cell_type": "code",
   "execution_count": 35,
   "id": "48dd3a3e",
   "metadata": {},
   "outputs": [
    {
     "name": "stdout",
     "output_type": "stream",
     "text": [
      "8\n"
     ]
    }
   ],
   "source": [
    "print(now.month)"
   ]
  },
  {
   "cell_type": "code",
   "execution_count": 36,
   "id": "1e1946b1",
   "metadata": {},
   "outputs": [],
   "source": [
    "new_dt = now.replace(year=2018)"
   ]
  },
  {
   "cell_type": "code",
   "execution_count": 37,
   "id": "09db0778",
   "metadata": {},
   "outputs": [
    {
     "name": "stdout",
     "output_type": "stream",
     "text": [
      "2018-08-01 12:12:14.720551\n"
     ]
    }
   ],
   "source": [
    "print(new_dt)"
   ]
  },
  {
   "cell_type": "code",
   "execution_count": 38,
   "id": "7553a4a6",
   "metadata": {},
   "outputs": [
    {
     "name": "stdout",
     "output_type": "stream",
     "text": [
      "2023-08-01 12:12:14.720551\n"
     ]
    }
   ],
   "source": [
    "print(now)"
   ]
  },
  {
   "cell_type": "code",
   "execution_count": 39,
   "id": "178c4cda",
   "metadata": {},
   "outputs": [
    {
     "name": "stdout",
     "output_type": "stream",
     "text": [
      "2018-08-30 00:00:00\n",
      "2018-03-29 10:40:00\n",
      "2018-06-28 09:20:00\n",
      "2018-06-28 00:00:00\n"
     ]
    }
   ],
   "source": [
    "dt = datetime.strptime(\"30/08/2018\", \"%d/%m/%Y\")\n",
    "print(dt)\n",
    "\n",
    "dt = datetime.strptime(\"29/03/2018 10:40\", \"%d/%m/%Y %H:%M\")\n",
    "print(dt)\n",
    "\n",
    "dt = datetime.strptime('06-28-2018 09:20', '%m-%d-%Y %H:%M')\n",
    "print(dt)\n",
    "\n",
    "dt = datetime.strptime('2018-06-28', '%Y-%m-%d')\n",
    "print(dt)"
   ]
  },
  {
   "cell_type": "code",
   "execution_count": 40,
   "id": "764d3c1b",
   "metadata": {},
   "outputs": [
    {
     "data": {
      "text/plain": [
       "'Russian_Russia.1251'"
      ]
     },
     "execution_count": 40,
     "metadata": {},
     "output_type": "execute_result"
    }
   ],
   "source": [
    "import locale\n",
    "locale.setlocale(locale.LC_ALL, \"\")"
   ]
  },
  {
   "cell_type": "code",
   "execution_count": 41,
   "id": "83bf4750",
   "metadata": {},
   "outputs": [
    {
     "name": "stdout",
     "output_type": "stream",
     "text": [
      "2023-08-01 (Вт)\n",
      "2023 Август 01 число (вторник)\n"
     ]
    }
   ],
   "source": [
    "now = datetime.now()\n",
    "print(now.strftime('%Y-%m-%d (%a)'))\n",
    "print(now.strftime('%Y %B %d число (%A)'))"
   ]
  },
  {
   "cell_type": "code",
   "execution_count": 42,
   "id": "804548c2",
   "metadata": {},
   "outputs": [
    {
     "name": "stdout",
     "output_type": "stream",
     "text": [
      "3 days, 2:10:00\n"
     ]
    }
   ],
   "source": [
    "delta1 = timedelta(days=3, hours=2, minutes=10)\n",
    "print(delta1)"
   ]
  },
  {
   "cell_type": "code",
   "execution_count": 43,
   "id": "44fa40ec",
   "metadata": {},
   "outputs": [
    {
     "name": "stdout",
     "output_type": "stream",
     "text": [
      "1 day, 1:05:00\n",
      "-2 days, 22:55:00\n"
     ]
    }
   ],
   "source": [
    "delta2 = timedelta(days=2, hours=1, minutes=5)\n",
    "print(delta1-delta2)\n",
    "print(delta2-delta1)"
   ]
  },
  {
   "cell_type": "code",
   "execution_count": 44,
   "id": "f0cfb860",
   "metadata": {},
   "outputs": [
    {
     "name": "stdout",
     "output_type": "stream",
     "text": [
      "<class 'datetime.timedelta'>\n",
      "34\n"
     ]
    }
   ],
   "source": [
    "my_birthday = date(1988, 8, 12)\n",
    "\n",
    "delta = date.today() - my_birthday\n",
    "print(type(delta))\n",
    "\n",
    "my_age = int(delta.days/365)\n",
    "print(my_age)"
   ]
  },
  {
   "cell_type": "code",
   "execution_count": 45,
   "id": "d718c91c",
   "metadata": {},
   "outputs": [
    {
     "name": "stdout",
     "output_type": "stream",
     "text": [
      "True\n"
     ]
    }
   ],
   "source": [
    "wife_birthday = date(1990, 9, 6)\n",
    "\n",
    "am_i_older = my_birthday < wife_birthday\n",
    "print(am_i_older)"
   ]
  },
  {
   "cell_type": "code",
   "execution_count": null,
   "id": "46b2329d",
   "metadata": {},
   "outputs": [],
   "source": []
  }
 ],
 "metadata": {
  "kernelspec": {
   "display_name": "Python 3 (ipykernel)",
   "language": "python",
   "name": "python3"
  },
  "language_info": {
   "codemirror_mode": {
    "name": "ipython",
    "version": 3
   },
   "file_extension": ".py",
   "mimetype": "text/x-python",
   "name": "python",
   "nbconvert_exporter": "python",
   "pygments_lexer": "ipython3",
   "version": "3.10.9"
  }
 },
 "nbformat": 4,
 "nbformat_minor": 5
}
