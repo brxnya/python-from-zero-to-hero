{
 "cells": [
  {
   "cell_type": "markdown",
   "id": "7fa00dcb",
   "metadata": {},
   "source": [
    "Следует различать понятия объекта-итератора и итерируемого объекта. Итератор это объект который используется для итерации\n",
    "по итериуемому объекту, используя __next()__ dunder-метод.\n",
    "\n",
    "Справедливо следующее утверждение: любой объект-итератор итерируем, но не любой итерируемый объект является объектом итератором.\n",
    "Например, list итерируем, но само по себе итератором не является. Чтобы получить итератор из итерируемого объекта, надо \n",
    "воспользоваться методом iter(), который, собственно, и возвращает объект-итератор."
   ]
  },
  {
   "cell_type": "code",
   "execution_count": 1,
   "id": "8eb2f002",
   "metadata": {},
   "outputs": [
    {
     "name": "stdout",
     "output_type": "stream",
     "text": [
      "<class 'list_iterator'>\n",
      "1\n",
      "2\n",
      "3\n"
     ]
    }
   ],
   "source": [
    "iterable = [1, 2, 3]\n",
    "\n",
    "iterator = iter(iterable) # будет вызван метод __ite__()\n",
    "print(type(iterator))\n",
    "\n",
    "print(next(iterator)) # будет вызван метод __next__()\n",
    "print(next(iterator))\n",
    "print(next(iterator))"
   ]
  },
  {
   "cell_type": "code",
   "execution_count": 2,
   "id": "116b3e2e",
   "metadata": {},
   "outputs": [],
   "source": [
    "import itertools as it"
   ]
  },
  {
   "cell_type": "code",
   "execution_count": 3,
   "id": "715116b3",
   "metadata": {},
   "outputs": [
    {
     "name": "stdout",
     "output_type": "stream",
     "text": [
      "[0, 2, 4, 6, 8]\n"
     ]
    }
   ],
   "source": [
    "even_numbers = [x for x in range(10) if x % 2 == 0]\n",
    "print(even_numbers)"
   ]
  },
  {
   "cell_type": "code",
   "execution_count": 4,
   "id": "dac703ac",
   "metadata": {},
   "outputs": [
    {
     "data": {
      "text/plain": [
       "count(0, 2)"
      ]
     },
     "execution_count": 4,
     "metadata": {},
     "output_type": "execute_result"
    }
   ],
   "source": [
    "even_numbers = it.count(0, 2)\n",
    "even_numbers"
   ]
  },
  {
   "cell_type": "code",
   "execution_count": 5,
   "id": "09081945",
   "metadata": {},
   "outputs": [],
   "source": [
    "#for x in even_numbers:\n",
    "#   print(x)"
   ]
  },
  {
   "cell_type": "code",
   "execution_count": 6,
   "id": "44f65cd2",
   "metadata": {},
   "outputs": [
    {
     "data": {
      "text/plain": [
       "[0, 2, 4, 6, 8]"
      ]
     },
     "execution_count": 6,
     "metadata": {},
     "output_type": "execute_result"
    }
   ],
   "source": [
    "list(next(even_numbers) for _ in range(5))"
   ]
  },
  {
   "cell_type": "code",
   "execution_count": 7,
   "id": "83a7da97",
   "metadata": {},
   "outputs": [
    {
     "data": {
      "text/plain": [
       "[(0, 'a'), (1, 'b'), (2, 'c')]"
      ]
     },
     "execution_count": 7,
     "metadata": {},
     "output_type": "execute_result"
    }
   ],
   "source": [
    "list(zip(it.count(), ['a', 'b', 'c']))"
   ]
  },
  {
   "cell_type": "code",
   "execution_count": 8,
   "id": "35d6b346",
   "metadata": {},
   "outputs": [],
   "source": [
    "def print_iterable(iterable, end = None):\n",
    "    for x in iterable:\n",
    "        if end:\n",
    "            print(x, end = end)\n",
    "        else:\n",
    "            print(x)"
   ]
  },
  {
   "cell_type": "code",
   "execution_count": 9,
   "id": "87fbdae8",
   "metadata": {},
   "outputs": [
    {
     "name": "stdout",
     "output_type": "stream",
     "text": [
      "1 1 1 1 1 "
     ]
    }
   ],
   "source": [
    "ones = it.repeat(1, 5)\n",
    "print_iterable(ones, ' ')"
   ]
  },
  {
   "cell_type": "code",
   "execution_count": 10,
   "id": "f2598a41",
   "metadata": {},
   "outputs": [
    {
     "data": {
      "text/plain": [
       "[0, 1, 4, 9, 16, 25, 36, 49, 64, 81]"
      ]
     },
     "execution_count": 10,
     "metadata": {},
     "output_type": "execute_result"
    }
   ],
   "source": [
    "list(map(pow, range(10), it.repeat(2)))"
   ]
  },
  {
   "cell_type": "code",
   "execution_count": 12,
   "id": "80668dec",
   "metadata": {},
   "outputs": [],
   "source": [
    "# for _ in it.repeat(None, 10000): - быстрее\n",
    "    # do something\n",
    "    \n",
    "# for _ in range(10000):\n",
    "    # compute"
   ]
  },
  {
   "cell_type": "code",
   "execution_count": 13,
   "id": "482dbe78",
   "metadata": {},
   "outputs": [
    {
     "name": "stdout",
     "output_type": "stream",
     "text": [
      "[1, -1, 1, -1, 1, -1, 1, -1, 1, -1]\n",
      "['A', 'B', 'C', 'A', 'B', 'C', 'A', 'B', 'C', 'A']\n"
     ]
    }
   ],
   "source": [
    "pos_neg_ones = it.cycle([1, -1])\n",
    "print(list(next(pos_neg_ones) for _ in range(10)))\n",
    "\n",
    "letters = it.cycle(['A', 'B', 'C'])\n",
    "print(list(next(letters) for _ in range(10)))"
   ]
  },
  {
   "cell_type": "code",
   "execution_count": 14,
   "id": "746469da",
   "metadata": {},
   "outputs": [
    {
     "data": {
      "text/plain": [
       "[1, 3, 6, 10, 15]"
      ]
     },
     "execution_count": 14,
     "metadata": {},
     "output_type": "execute_result"
    }
   ],
   "source": [
    "list(it.accumulate([1, 2, 3, 4, 5]))"
   ]
  },
  {
   "cell_type": "code",
   "execution_count": 15,
   "id": "ee558eaa",
   "metadata": {},
   "outputs": [
    {
     "data": {
      "text/plain": [
       "['A', 'AB', 'ABC', 'ABCD']"
      ]
     },
     "execution_count": 15,
     "metadata": {},
     "output_type": "execute_result"
    }
   ],
   "source": [
    "list(it.accumulate(['A', 'B', 'C', 'D']))"
   ]
  },
  {
   "cell_type": "code",
   "execution_count": 17,
   "id": "12b22025",
   "metadata": {},
   "outputs": [
    {
     "data": {
      "text/plain": [
       "[3, 3, 4, 4, 7, 7, 8, 8, 9]"
      ]
     },
     "execution_count": 17,
     "metadata": {},
     "output_type": "execute_result"
    }
   ],
   "source": [
    "list(it.accumulate([3, 1, 4, 2, 7, 3, 8, 5, 9], max))"
   ]
  },
  {
   "cell_type": "code",
   "execution_count": 18,
   "id": "ca0d4ec1",
   "metadata": {},
   "outputs": [
    {
     "data": {
      "text/plain": [
       "['A', 'B', 'C', 'D', 'E', 'F']"
      ]
     },
     "execution_count": 18,
     "metadata": {},
     "output_type": "execute_result"
    }
   ],
   "source": [
    "list(it.chain('ABC', 'DEF'))"
   ]
  },
  {
   "cell_type": "code",
   "execution_count": 20,
   "id": "d72b34c1",
   "metadata": {},
   "outputs": [
    {
     "data": {
      "text/plain": [
       "['A', 'B', 'C', 'D', 'E', 'F']"
      ]
     },
     "execution_count": 20,
     "metadata": {},
     "output_type": "execute_result"
    }
   ],
   "source": [
    "list(it.chain.from_iterable(['ABC', 'DEF']))"
   ]
  },
  {
   "cell_type": "code",
   "execution_count": 21,
   "id": "6250905d",
   "metadata": {},
   "outputs": [
    {
     "data": {
      "text/plain": [
       "[1, 2, 3, 4, 5, 6, 7, 8, 9]"
      ]
     },
     "execution_count": 21,
     "metadata": {},
     "output_type": "execute_result"
    }
   ],
   "source": [
    "list(it.chain([1,2,3],[4,5,6],[7,8,9]))"
   ]
  },
  {
   "cell_type": "code",
   "execution_count": 22,
   "id": "0964889e",
   "metadata": {},
   "outputs": [
    {
     "data": {
      "text/plain": [
       "[3, 4, 5]"
      ]
     },
     "execution_count": 22,
     "metadata": {},
     "output_type": "execute_result"
    }
   ],
   "source": [
    "list(it.dropwhile(lambda x: x<3, [1,2,3,4,5]))"
   ]
  },
  {
   "cell_type": "code",
   "execution_count": 23,
   "id": "85e70362",
   "metadata": {},
   "outputs": [
    {
     "data": {
      "text/plain": [
       "[1, 2]"
      ]
     },
     "execution_count": 23,
     "metadata": {},
     "output_type": "execute_result"
    }
   ],
   "source": [
    "list(it.takewhile(lambda x: x<3, [1,2,3,4,5]))"
   ]
  },
  {
   "cell_type": "code",
   "execution_count": 24,
   "id": "816d9c52",
   "metadata": {},
   "outputs": [
    {
     "data": {
      "text/plain": [
       "[1, 3, 5, 7, 9]"
      ]
     },
     "execution_count": 24,
     "metadata": {},
     "output_type": "execute_result"
    }
   ],
   "source": [
    "list(it.filterfalse(lambda x: x%2==0, range(10)))"
   ]
  },
  {
   "cell_type": "code",
   "execution_count": 25,
   "id": "afaf6405",
   "metadata": {},
   "outputs": [
    {
     "name": "stdout",
     "output_type": "stream",
     "text": [
      "1 2 3 \n",
      "iterable is exausted\n"
     ]
    }
   ],
   "source": [
    "iterable = iter([1,2,3])\n",
    "print_iterable(iterable, ' ')\n",
    "print('\\niterable is exausted')\n",
    "print_iterable(iterable, ' ')"
   ]
  },
  {
   "cell_type": "code",
   "execution_count": 28,
   "id": "20e6fe4b",
   "metadata": {},
   "outputs": [
    {
     "name": "stdout",
     "output_type": "stream",
     "text": [
      "1 2 3 \n",
      "iterable is exausted\n",
      "1 2 3 "
     ]
    }
   ],
   "source": [
    "iterable1, iterable2 = it.tee([1,2,3], 2)\n",
    "print_iterable(iterable1, ' ')\n",
    "print('\\niterable is exausted')\n",
    "print_iterable(iterable2, ' ')"
   ]
  },
  {
   "cell_type": "code",
   "execution_count": 31,
   "id": "e958ef45",
   "metadata": {},
   "outputs": [
    {
     "name": "stdout",
     "output_type": "stream",
     "text": [
      "Calsen:2842\n",
      "Caruana:2822\n",
      "Mamedyarov:2801\n",
      "Ding:2797\n",
      "Giri:2780\n"
     ]
    }
   ],
   "source": [
    "names = ['Calsen', 'Caruana', 'Mamedyarov', 'Ding', 'Giri']\n",
    "ratings = [2842, 2822, 2801, 2797, 2780]\n",
    "\n",
    "for name, rating in zip(names, ratings):\n",
    "    print(f'{name}:{rating}')"
   ]
  },
  {
   "cell_type": "code",
   "execution_count": 32,
   "id": "4553ef45",
   "metadata": {},
   "outputs": [
    {
     "data": {
      "text/plain": [
       "[('Calsen', 2842),\n",
       " ('Caruana', 2822),\n",
       " ('Mamedyarov', 2801),\n",
       " ('Ding', 2797),\n",
       " ('Giri', 2780)]"
      ]
     },
     "execution_count": 32,
     "metadata": {},
     "output_type": "execute_result"
    }
   ],
   "source": [
    "list(zip(names, ratings))"
   ]
  },
  {
   "cell_type": "code",
   "execution_count": 33,
   "id": "6706bba2",
   "metadata": {},
   "outputs": [
    {
     "data": {
      "text/plain": [
       "{'Calsen': 2842,\n",
       " 'Caruana': 2822,\n",
       " 'Mamedyarov': 2801,\n",
       " 'Ding': 2797,\n",
       " 'Giri': 2780}"
      ]
     },
     "execution_count": 33,
     "metadata": {},
     "output_type": "execute_result"
    }
   ],
   "source": [
    "players = dict(zip(names, ratings))\n",
    "players"
   ]
  },
  {
   "cell_type": "code",
   "execution_count": 34,
   "id": "7e30abbc",
   "metadata": {},
   "outputs": [
    {
     "data": {
      "text/plain": [
       "{'Calsen': 2842,\n",
       " 'Caruana': 2822,\n",
       " 'Mamedyarov': 2801,\n",
       " 'Ding': 2797,\n",
       " 'Giri': 2780}"
      ]
     },
     "execution_count": 34,
     "metadata": {},
     "output_type": "execute_result"
    }
   ],
   "source": [
    "names = ['Calsen', 'Caruana', 'Mamedyarov', 'Ding', 'Giri', 'Kramnik'] # add new player\n",
    "ratings = [2842, 2822, 2801, 2797, 2780]\n",
    "\n",
    "players = dict(zip(names, ratings))\n",
    "players"
   ]
  },
  {
   "cell_type": "code",
   "execution_count": 36,
   "id": "972993de",
   "metadata": {},
   "outputs": [
    {
     "data": {
      "text/plain": [
       "{'Calsen': 2842,\n",
       " 'Caruana': 2822,\n",
       " 'Mamedyarov': 2801,\n",
       " 'Ding': 2797,\n",
       " 'Giri': 2780,\n",
       " 'Kramnik': None}"
      ]
     },
     "execution_count": 36,
     "metadata": {},
     "output_type": "execute_result"
    }
   ],
   "source": [
    "players = dict(it.zip_longest(names, ratings))\n",
    "players"
   ]
  },
  {
   "cell_type": "code",
   "execution_count": 38,
   "id": "0bae67df",
   "metadata": {},
   "outputs": [
    {
     "name": "stdout",
     "output_type": "stream",
     "text": [
      "1:[1, 1, 1]\n",
      "2:[2, 2, 2]\n",
      "3:[3, 3]\n"
     ]
    }
   ],
   "source": [
    "for key, grp in it.groupby([1,1,1,2,2,2,3,3]):\n",
    "    print('{}:{}'.format(key, list(grp)))"
   ]
  },
  {
   "cell_type": "code",
   "execution_count": 39,
   "id": "dd734ee9",
   "metadata": {},
   "outputs": [
    {
     "name": "stdout",
     "output_type": "stream",
     "text": [
      "1:[1]\n",
      "2:[2]\n",
      "1:[1]\n",
      "2:[2, 2]\n",
      "3:[3, 3]\n",
      "2:[2]\n"
     ]
    }
   ],
   "source": [
    "for key, grp in it.groupby([1,2,1,2,2,3,3,2]):\n",
    "    print('{}:{}'.format(key, list(grp)))"
   ]
  },
  {
   "cell_type": "code",
   "execution_count": 40,
   "id": "43264cfb",
   "metadata": {},
   "outputs": [
    {
     "name": "stdout",
     "output_type": "stream",
     "text": [
      "1:[1, 1]\n",
      "2:[2, 2, 2, 2]\n",
      "3:[3, 3]\n"
     ]
    }
   ],
   "source": [
    "lst = [1,2,1,2,2,3,3,2]\n",
    "for key, grp in it.groupby(sorted(lst)):\n",
    "    print('{}:{}'.format(key, list(grp)))"
   ]
  },
  {
   "cell_type": "code",
   "execution_count": 41,
   "id": "1c4ccd1e",
   "metadata": {},
   "outputs": [],
   "source": [
    "forecast = [{'humidity': 20,  'temperature': 78, 'wind': 7},\n",
    "            {'humidity': 50,  'temperature': 61, 'wind': 10},\n",
    "            {'humidity': 100, 'temperature': 81, 'wind': 5},\n",
    "            {'humidity': 90,  'temperature': 62, 'wind': 15},\n",
    "            {'humidity': 20,  'temperature': 84, 'wind': 19},\n",
    "            {'humidity': 0,   'temperature': 66, 'wind': 28},\n",
    "            {'humidity': 100, 'temperature': 87, 'wind': 12},\n",
    "            {'humidity': 0,   'temperature': 68, 'wind': 14},\n",
    "            {'humidity': 90,  'temperature': 86, 'wind': 4},\n",
    "            {'humidity': 50,  'temperature': 68, 'wind': 0}\n",
    "           ]"
   ]
  },
  {
   "cell_type": "code",
   "execution_count": 43,
   "id": "0e5f70b4",
   "metadata": {},
   "outputs": [],
   "source": [
    "def group_sorted(iterable, key = None):\n",
    "    return it.groupby(sorted(iterable, key=key), key=key)"
   ]
  },
  {
   "cell_type": "code",
   "execution_count": 44,
   "id": "4b1b752b",
   "metadata": {},
   "outputs": [
    {
     "name": "stdout",
     "output_type": "stream",
     "text": [
      "0:[{'humidity': 0, 'temperature': 66, 'wind': 28}, {'humidity': 0, 'temperature': 68, 'wind': 14}]\n",
      "20:[{'humidity': 20, 'temperature': 78, 'wind': 7}, {'humidity': 20, 'temperature': 84, 'wind': 19}]\n",
      "50:[{'humidity': 50, 'temperature': 61, 'wind': 10}, {'humidity': 50, 'temperature': 68, 'wind': 0}]\n",
      "90:[{'humidity': 90, 'temperature': 62, 'wind': 15}, {'humidity': 90, 'temperature': 86, 'wind': 4}]\n",
      "100:[{'humidity': 100, 'temperature': 81, 'wind': 5}, {'humidity': 100, 'temperature': 87, 'wind': 12}]\n"
     ]
    }
   ],
   "source": [
    "grouped_data = group_sorted(forecast, key=lambda x: x['humidity'])\n",
    "for key, grp in grouped_data:\n",
    "    print('{}:{}'.format(key, list(grp)))"
   ]
  },
  {
   "cell_type": "code",
   "execution_count": 45,
   "id": "be798cd2",
   "metadata": {},
   "outputs": [
    {
     "name": "stdout",
     "output_type": "stream",
     "text": [
      "[0, 2, 4, 6, 8, 10, 12, 14, 16, 18]\n",
      "[4, 8, 12, 16]\n"
     ]
    }
   ],
   "source": [
    "even_numbers = it.count(0, 2)\n",
    "print([x for x in range(20) if x%2==0])\n",
    "\n",
    "print(list(it.islice(even_numbers, 2, 10, 2)))"
   ]
  },
  {
   "cell_type": "code",
   "execution_count": 46,
   "id": "a00b9f98",
   "metadata": {},
   "outputs": [
    {
     "name": "stdout",
     "output_type": "stream",
     "text": [
      "[0, 2, 4, 6]\n"
     ]
    }
   ],
   "source": [
    "even_numbers = it.count(0, 2)\n",
    "print(list(it.islice(even_numbers, 4)))"
   ]
  },
  {
   "cell_type": "code",
   "execution_count": 47,
   "id": "13b21787",
   "metadata": {},
   "outputs": [
    {
     "name": "stdout",
     "output_type": "stream",
     "text": [
      "[4, 6]\n"
     ]
    }
   ],
   "source": [
    "even_numbers = it.count(0, 2)\n",
    "print(list(it.islice(even_numbers, 2, 4)))"
   ]
  },
  {
   "cell_type": "code",
   "execution_count": 48,
   "id": "09d03011",
   "metadata": {},
   "outputs": [
    {
     "data": {
      "text/plain": [
       "[(7, 5, 2, 8),\n",
       " (7, 5, 8, 2),\n",
       " (7, 2, 5, 8),\n",
       " (7, 2, 8, 5),\n",
       " (7, 8, 5, 2),\n",
       " (7, 8, 2, 5),\n",
       " (5, 7, 2, 8),\n",
       " (5, 7, 8, 2),\n",
       " (5, 2, 7, 8),\n",
       " (5, 2, 8, 7),\n",
       " (5, 8, 7, 2),\n",
       " (5, 8, 2, 7),\n",
       " (2, 7, 5, 8),\n",
       " (2, 7, 8, 5),\n",
       " (2, 5, 7, 8),\n",
       " (2, 5, 8, 7),\n",
       " (2, 8, 7, 5),\n",
       " (2, 8, 5, 7),\n",
       " (8, 7, 5, 2),\n",
       " (8, 7, 2, 5),\n",
       " (8, 5, 7, 2),\n",
       " (8, 5, 2, 7),\n",
       " (8, 2, 7, 5),\n",
       " (8, 2, 5, 7)]"
      ]
     },
     "execution_count": 48,
     "metadata": {},
     "output_type": "execute_result"
    }
   ],
   "source": [
    "pin = [7, 5, 2,  8]\n",
    "list(it.permutations(pin))"
   ]
  },
  {
   "cell_type": "code",
   "execution_count": 49,
   "id": "479d990d",
   "metadata": {},
   "outputs": [
    {
     "data": {
      "text/plain": [
       "[('6', 'H'),\n",
       " ('6', 'D'),\n",
       " ('6', 'C'),\n",
       " ('6', 'S'),\n",
       " ('7', 'H'),\n",
       " ('7', 'D'),\n",
       " ('7', 'C'),\n",
       " ('7', 'S'),\n",
       " ('8', 'H'),\n",
       " ('8', 'D'),\n",
       " ('8', 'C'),\n",
       " ('8', 'S'),\n",
       " ('9', 'H'),\n",
       " ('9', 'D'),\n",
       " ('9', 'C'),\n",
       " ('9', 'S'),\n",
       " ('10', 'H'),\n",
       " ('10', 'D'),\n",
       " ('10', 'C'),\n",
       " ('10', 'S'),\n",
       " ('J', 'H'),\n",
       " ('J', 'D'),\n",
       " ('J', 'C'),\n",
       " ('J', 'S'),\n",
       " ('Q', 'H'),\n",
       " ('Q', 'D'),\n",
       " ('Q', 'C'),\n",
       " ('Q', 'S'),\n",
       " ('K', 'H'),\n",
       " ('K', 'D'),\n",
       " ('K', 'C'),\n",
       " ('K', 'S'),\n",
       " ('A', 'H'),\n",
       " ('A', 'D'),\n",
       " ('A', 'C'),\n",
       " ('A', 'S')]"
      ]
     },
     "execution_count": 49,
     "metadata": {},
     "output_type": "execute_result"
    }
   ],
   "source": [
    "ranks = ['6', '7', '8', '9', '10', 'J', 'Q', 'K', 'A']\n",
    "suits = ['H', 'D', 'C', 'S']\n",
    "\n",
    "lst = list(it.product(ranks, suits))\n",
    "lst"
   ]
  },
  {
   "cell_type": "code",
   "execution_count": 50,
   "id": "2a8fbec7",
   "metadata": {},
   "outputs": [
    {
     "data": {
      "text/plain": [
       "[(('6', 'H'), ('6', 'D')),\n",
       " (('6', 'H'), ('6', 'C')),\n",
       " (('6', 'H'), ('6', 'S')),\n",
       " (('6', 'H'), ('7', 'H')),\n",
       " (('6', 'H'), ('7', 'D')),\n",
       " (('6', 'H'), ('7', 'C')),\n",
       " (('6', 'H'), ('7', 'S')),\n",
       " (('6', 'H'), ('8', 'H')),\n",
       " (('6', 'H'), ('8', 'D')),\n",
       " (('6', 'H'), ('8', 'C')),\n",
       " (('6', 'H'), ('8', 'S')),\n",
       " (('6', 'H'), ('9', 'H')),\n",
       " (('6', 'H'), ('9', 'D')),\n",
       " (('6', 'H'), ('9', 'C')),\n",
       " (('6', 'H'), ('9', 'S')),\n",
       " (('6', 'H'), ('10', 'H')),\n",
       " (('6', 'H'), ('10', 'D')),\n",
       " (('6', 'H'), ('10', 'C')),\n",
       " (('6', 'H'), ('10', 'S')),\n",
       " (('6', 'H'), ('J', 'H')),\n",
       " (('6', 'H'), ('J', 'D')),\n",
       " (('6', 'H'), ('J', 'C')),\n",
       " (('6', 'H'), ('J', 'S')),\n",
       " (('6', 'H'), ('Q', 'H')),\n",
       " (('6', 'H'), ('Q', 'D')),\n",
       " (('6', 'H'), ('Q', 'C')),\n",
       " (('6', 'H'), ('Q', 'S')),\n",
       " (('6', 'H'), ('K', 'H')),\n",
       " (('6', 'H'), ('K', 'D')),\n",
       " (('6', 'H'), ('K', 'C')),\n",
       " (('6', 'H'), ('K', 'S')),\n",
       " (('6', 'H'), ('A', 'H')),\n",
       " (('6', 'H'), ('A', 'D')),\n",
       " (('6', 'H'), ('A', 'C')),\n",
       " (('6', 'H'), ('A', 'S')),\n",
       " (('6', 'D'), ('6', 'C')),\n",
       " (('6', 'D'), ('6', 'S')),\n",
       " (('6', 'D'), ('7', 'H')),\n",
       " (('6', 'D'), ('7', 'D')),\n",
       " (('6', 'D'), ('7', 'C')),\n",
       " (('6', 'D'), ('7', 'S')),\n",
       " (('6', 'D'), ('8', 'H')),\n",
       " (('6', 'D'), ('8', 'D')),\n",
       " (('6', 'D'), ('8', 'C')),\n",
       " (('6', 'D'), ('8', 'S')),\n",
       " (('6', 'D'), ('9', 'H')),\n",
       " (('6', 'D'), ('9', 'D')),\n",
       " (('6', 'D'), ('9', 'C')),\n",
       " (('6', 'D'), ('9', 'S')),\n",
       " (('6', 'D'), ('10', 'H')),\n",
       " (('6', 'D'), ('10', 'D')),\n",
       " (('6', 'D'), ('10', 'C')),\n",
       " (('6', 'D'), ('10', 'S')),\n",
       " (('6', 'D'), ('J', 'H')),\n",
       " (('6', 'D'), ('J', 'D')),\n",
       " (('6', 'D'), ('J', 'C')),\n",
       " (('6', 'D'), ('J', 'S')),\n",
       " (('6', 'D'), ('Q', 'H')),\n",
       " (('6', 'D'), ('Q', 'D')),\n",
       " (('6', 'D'), ('Q', 'C')),\n",
       " (('6', 'D'), ('Q', 'S')),\n",
       " (('6', 'D'), ('K', 'H')),\n",
       " (('6', 'D'), ('K', 'D')),\n",
       " (('6', 'D'), ('K', 'C')),\n",
       " (('6', 'D'), ('K', 'S')),\n",
       " (('6', 'D'), ('A', 'H')),\n",
       " (('6', 'D'), ('A', 'D')),\n",
       " (('6', 'D'), ('A', 'C')),\n",
       " (('6', 'D'), ('A', 'S')),\n",
       " (('6', 'C'), ('6', 'S')),\n",
       " (('6', 'C'), ('7', 'H')),\n",
       " (('6', 'C'), ('7', 'D')),\n",
       " (('6', 'C'), ('7', 'C')),\n",
       " (('6', 'C'), ('7', 'S')),\n",
       " (('6', 'C'), ('8', 'H')),\n",
       " (('6', 'C'), ('8', 'D')),\n",
       " (('6', 'C'), ('8', 'C')),\n",
       " (('6', 'C'), ('8', 'S')),\n",
       " (('6', 'C'), ('9', 'H')),\n",
       " (('6', 'C'), ('9', 'D')),\n",
       " (('6', 'C'), ('9', 'C')),\n",
       " (('6', 'C'), ('9', 'S')),\n",
       " (('6', 'C'), ('10', 'H')),\n",
       " (('6', 'C'), ('10', 'D')),\n",
       " (('6', 'C'), ('10', 'C')),\n",
       " (('6', 'C'), ('10', 'S')),\n",
       " (('6', 'C'), ('J', 'H')),\n",
       " (('6', 'C'), ('J', 'D')),\n",
       " (('6', 'C'), ('J', 'C')),\n",
       " (('6', 'C'), ('J', 'S')),\n",
       " (('6', 'C'), ('Q', 'H')),\n",
       " (('6', 'C'), ('Q', 'D')),\n",
       " (('6', 'C'), ('Q', 'C')),\n",
       " (('6', 'C'), ('Q', 'S')),\n",
       " (('6', 'C'), ('K', 'H')),\n",
       " (('6', 'C'), ('K', 'D')),\n",
       " (('6', 'C'), ('K', 'C')),\n",
       " (('6', 'C'), ('K', 'S')),\n",
       " (('6', 'C'), ('A', 'H')),\n",
       " (('6', 'C'), ('A', 'D')),\n",
       " (('6', 'C'), ('A', 'C')),\n",
       " (('6', 'C'), ('A', 'S')),\n",
       " (('6', 'S'), ('7', 'H')),\n",
       " (('6', 'S'), ('7', 'D')),\n",
       " (('6', 'S'), ('7', 'C')),\n",
       " (('6', 'S'), ('7', 'S')),\n",
       " (('6', 'S'), ('8', 'H')),\n",
       " (('6', 'S'), ('8', 'D')),\n",
       " (('6', 'S'), ('8', 'C')),\n",
       " (('6', 'S'), ('8', 'S')),\n",
       " (('6', 'S'), ('9', 'H')),\n",
       " (('6', 'S'), ('9', 'D')),\n",
       " (('6', 'S'), ('9', 'C')),\n",
       " (('6', 'S'), ('9', 'S')),\n",
       " (('6', 'S'), ('10', 'H')),\n",
       " (('6', 'S'), ('10', 'D')),\n",
       " (('6', 'S'), ('10', 'C')),\n",
       " (('6', 'S'), ('10', 'S')),\n",
       " (('6', 'S'), ('J', 'H')),\n",
       " (('6', 'S'), ('J', 'D')),\n",
       " (('6', 'S'), ('J', 'C')),\n",
       " (('6', 'S'), ('J', 'S')),\n",
       " (('6', 'S'), ('Q', 'H')),\n",
       " (('6', 'S'), ('Q', 'D')),\n",
       " (('6', 'S'), ('Q', 'C')),\n",
       " (('6', 'S'), ('Q', 'S')),\n",
       " (('6', 'S'), ('K', 'H')),\n",
       " (('6', 'S'), ('K', 'D')),\n",
       " (('6', 'S'), ('K', 'C')),\n",
       " (('6', 'S'), ('K', 'S')),\n",
       " (('6', 'S'), ('A', 'H')),\n",
       " (('6', 'S'), ('A', 'D')),\n",
       " (('6', 'S'), ('A', 'C')),\n",
       " (('6', 'S'), ('A', 'S')),\n",
       " (('7', 'H'), ('7', 'D')),\n",
       " (('7', 'H'), ('7', 'C')),\n",
       " (('7', 'H'), ('7', 'S')),\n",
       " (('7', 'H'), ('8', 'H')),\n",
       " (('7', 'H'), ('8', 'D')),\n",
       " (('7', 'H'), ('8', 'C')),\n",
       " (('7', 'H'), ('8', 'S')),\n",
       " (('7', 'H'), ('9', 'H')),\n",
       " (('7', 'H'), ('9', 'D')),\n",
       " (('7', 'H'), ('9', 'C')),\n",
       " (('7', 'H'), ('9', 'S')),\n",
       " (('7', 'H'), ('10', 'H')),\n",
       " (('7', 'H'), ('10', 'D')),\n",
       " (('7', 'H'), ('10', 'C')),\n",
       " (('7', 'H'), ('10', 'S')),\n",
       " (('7', 'H'), ('J', 'H')),\n",
       " (('7', 'H'), ('J', 'D')),\n",
       " (('7', 'H'), ('J', 'C')),\n",
       " (('7', 'H'), ('J', 'S')),\n",
       " (('7', 'H'), ('Q', 'H')),\n",
       " (('7', 'H'), ('Q', 'D')),\n",
       " (('7', 'H'), ('Q', 'C')),\n",
       " (('7', 'H'), ('Q', 'S')),\n",
       " (('7', 'H'), ('K', 'H')),\n",
       " (('7', 'H'), ('K', 'D')),\n",
       " (('7', 'H'), ('K', 'C')),\n",
       " (('7', 'H'), ('K', 'S')),\n",
       " (('7', 'H'), ('A', 'H')),\n",
       " (('7', 'H'), ('A', 'D')),\n",
       " (('7', 'H'), ('A', 'C')),\n",
       " (('7', 'H'), ('A', 'S')),\n",
       " (('7', 'D'), ('7', 'C')),\n",
       " (('7', 'D'), ('7', 'S')),\n",
       " (('7', 'D'), ('8', 'H')),\n",
       " (('7', 'D'), ('8', 'D')),\n",
       " (('7', 'D'), ('8', 'C')),\n",
       " (('7', 'D'), ('8', 'S')),\n",
       " (('7', 'D'), ('9', 'H')),\n",
       " (('7', 'D'), ('9', 'D')),\n",
       " (('7', 'D'), ('9', 'C')),\n",
       " (('7', 'D'), ('9', 'S')),\n",
       " (('7', 'D'), ('10', 'H')),\n",
       " (('7', 'D'), ('10', 'D')),\n",
       " (('7', 'D'), ('10', 'C')),\n",
       " (('7', 'D'), ('10', 'S')),\n",
       " (('7', 'D'), ('J', 'H')),\n",
       " (('7', 'D'), ('J', 'D')),\n",
       " (('7', 'D'), ('J', 'C')),\n",
       " (('7', 'D'), ('J', 'S')),\n",
       " (('7', 'D'), ('Q', 'H')),\n",
       " (('7', 'D'), ('Q', 'D')),\n",
       " (('7', 'D'), ('Q', 'C')),\n",
       " (('7', 'D'), ('Q', 'S')),\n",
       " (('7', 'D'), ('K', 'H')),\n",
       " (('7', 'D'), ('K', 'D')),\n",
       " (('7', 'D'), ('K', 'C')),\n",
       " (('7', 'D'), ('K', 'S')),\n",
       " (('7', 'D'), ('A', 'H')),\n",
       " (('7', 'D'), ('A', 'D')),\n",
       " (('7', 'D'), ('A', 'C')),\n",
       " (('7', 'D'), ('A', 'S')),\n",
       " (('7', 'C'), ('7', 'S')),\n",
       " (('7', 'C'), ('8', 'H')),\n",
       " (('7', 'C'), ('8', 'D')),\n",
       " (('7', 'C'), ('8', 'C')),\n",
       " (('7', 'C'), ('8', 'S')),\n",
       " (('7', 'C'), ('9', 'H')),\n",
       " (('7', 'C'), ('9', 'D')),\n",
       " (('7', 'C'), ('9', 'C')),\n",
       " (('7', 'C'), ('9', 'S')),\n",
       " (('7', 'C'), ('10', 'H')),\n",
       " (('7', 'C'), ('10', 'D')),\n",
       " (('7', 'C'), ('10', 'C')),\n",
       " (('7', 'C'), ('10', 'S')),\n",
       " (('7', 'C'), ('J', 'H')),\n",
       " (('7', 'C'), ('J', 'D')),\n",
       " (('7', 'C'), ('J', 'C')),\n",
       " (('7', 'C'), ('J', 'S')),\n",
       " (('7', 'C'), ('Q', 'H')),\n",
       " (('7', 'C'), ('Q', 'D')),\n",
       " (('7', 'C'), ('Q', 'C')),\n",
       " (('7', 'C'), ('Q', 'S')),\n",
       " (('7', 'C'), ('K', 'H')),\n",
       " (('7', 'C'), ('K', 'D')),\n",
       " (('7', 'C'), ('K', 'C')),\n",
       " (('7', 'C'), ('K', 'S')),\n",
       " (('7', 'C'), ('A', 'H')),\n",
       " (('7', 'C'), ('A', 'D')),\n",
       " (('7', 'C'), ('A', 'C')),\n",
       " (('7', 'C'), ('A', 'S')),\n",
       " (('7', 'S'), ('8', 'H')),\n",
       " (('7', 'S'), ('8', 'D')),\n",
       " (('7', 'S'), ('8', 'C')),\n",
       " (('7', 'S'), ('8', 'S')),\n",
       " (('7', 'S'), ('9', 'H')),\n",
       " (('7', 'S'), ('9', 'D')),\n",
       " (('7', 'S'), ('9', 'C')),\n",
       " (('7', 'S'), ('9', 'S')),\n",
       " (('7', 'S'), ('10', 'H')),\n",
       " (('7', 'S'), ('10', 'D')),\n",
       " (('7', 'S'), ('10', 'C')),\n",
       " (('7', 'S'), ('10', 'S')),\n",
       " (('7', 'S'), ('J', 'H')),\n",
       " (('7', 'S'), ('J', 'D')),\n",
       " (('7', 'S'), ('J', 'C')),\n",
       " (('7', 'S'), ('J', 'S')),\n",
       " (('7', 'S'), ('Q', 'H')),\n",
       " (('7', 'S'), ('Q', 'D')),\n",
       " (('7', 'S'), ('Q', 'C')),\n",
       " (('7', 'S'), ('Q', 'S')),\n",
       " (('7', 'S'), ('K', 'H')),\n",
       " (('7', 'S'), ('K', 'D')),\n",
       " (('7', 'S'), ('K', 'C')),\n",
       " (('7', 'S'), ('K', 'S')),\n",
       " (('7', 'S'), ('A', 'H')),\n",
       " (('7', 'S'), ('A', 'D')),\n",
       " (('7', 'S'), ('A', 'C')),\n",
       " (('7', 'S'), ('A', 'S')),\n",
       " (('8', 'H'), ('8', 'D')),\n",
       " (('8', 'H'), ('8', 'C')),\n",
       " (('8', 'H'), ('8', 'S')),\n",
       " (('8', 'H'), ('9', 'H')),\n",
       " (('8', 'H'), ('9', 'D')),\n",
       " (('8', 'H'), ('9', 'C')),\n",
       " (('8', 'H'), ('9', 'S')),\n",
       " (('8', 'H'), ('10', 'H')),\n",
       " (('8', 'H'), ('10', 'D')),\n",
       " (('8', 'H'), ('10', 'C')),\n",
       " (('8', 'H'), ('10', 'S')),\n",
       " (('8', 'H'), ('J', 'H')),\n",
       " (('8', 'H'), ('J', 'D')),\n",
       " (('8', 'H'), ('J', 'C')),\n",
       " (('8', 'H'), ('J', 'S')),\n",
       " (('8', 'H'), ('Q', 'H')),\n",
       " (('8', 'H'), ('Q', 'D')),\n",
       " (('8', 'H'), ('Q', 'C')),\n",
       " (('8', 'H'), ('Q', 'S')),\n",
       " (('8', 'H'), ('K', 'H')),\n",
       " (('8', 'H'), ('K', 'D')),\n",
       " (('8', 'H'), ('K', 'C')),\n",
       " (('8', 'H'), ('K', 'S')),\n",
       " (('8', 'H'), ('A', 'H')),\n",
       " (('8', 'H'), ('A', 'D')),\n",
       " (('8', 'H'), ('A', 'C')),\n",
       " (('8', 'H'), ('A', 'S')),\n",
       " (('8', 'D'), ('8', 'C')),\n",
       " (('8', 'D'), ('8', 'S')),\n",
       " (('8', 'D'), ('9', 'H')),\n",
       " (('8', 'D'), ('9', 'D')),\n",
       " (('8', 'D'), ('9', 'C')),\n",
       " (('8', 'D'), ('9', 'S')),\n",
       " (('8', 'D'), ('10', 'H')),\n",
       " (('8', 'D'), ('10', 'D')),\n",
       " (('8', 'D'), ('10', 'C')),\n",
       " (('8', 'D'), ('10', 'S')),\n",
       " (('8', 'D'), ('J', 'H')),\n",
       " (('8', 'D'), ('J', 'D')),\n",
       " (('8', 'D'), ('J', 'C')),\n",
       " (('8', 'D'), ('J', 'S')),\n",
       " (('8', 'D'), ('Q', 'H')),\n",
       " (('8', 'D'), ('Q', 'D')),\n",
       " (('8', 'D'), ('Q', 'C')),\n",
       " (('8', 'D'), ('Q', 'S')),\n",
       " (('8', 'D'), ('K', 'H')),\n",
       " (('8', 'D'), ('K', 'D')),\n",
       " (('8', 'D'), ('K', 'C')),\n",
       " (('8', 'D'), ('K', 'S')),\n",
       " (('8', 'D'), ('A', 'H')),\n",
       " (('8', 'D'), ('A', 'D')),\n",
       " (('8', 'D'), ('A', 'C')),\n",
       " (('8', 'D'), ('A', 'S')),\n",
       " (('8', 'C'), ('8', 'S')),\n",
       " (('8', 'C'), ('9', 'H')),\n",
       " (('8', 'C'), ('9', 'D')),\n",
       " (('8', 'C'), ('9', 'C')),\n",
       " (('8', 'C'), ('9', 'S')),\n",
       " (('8', 'C'), ('10', 'H')),\n",
       " (('8', 'C'), ('10', 'D')),\n",
       " (('8', 'C'), ('10', 'C')),\n",
       " (('8', 'C'), ('10', 'S')),\n",
       " (('8', 'C'), ('J', 'H')),\n",
       " (('8', 'C'), ('J', 'D')),\n",
       " (('8', 'C'), ('J', 'C')),\n",
       " (('8', 'C'), ('J', 'S')),\n",
       " (('8', 'C'), ('Q', 'H')),\n",
       " (('8', 'C'), ('Q', 'D')),\n",
       " (('8', 'C'), ('Q', 'C')),\n",
       " (('8', 'C'), ('Q', 'S')),\n",
       " (('8', 'C'), ('K', 'H')),\n",
       " (('8', 'C'), ('K', 'D')),\n",
       " (('8', 'C'), ('K', 'C')),\n",
       " (('8', 'C'), ('K', 'S')),\n",
       " (('8', 'C'), ('A', 'H')),\n",
       " (('8', 'C'), ('A', 'D')),\n",
       " (('8', 'C'), ('A', 'C')),\n",
       " (('8', 'C'), ('A', 'S')),\n",
       " (('8', 'S'), ('9', 'H')),\n",
       " (('8', 'S'), ('9', 'D')),\n",
       " (('8', 'S'), ('9', 'C')),\n",
       " (('8', 'S'), ('9', 'S')),\n",
       " (('8', 'S'), ('10', 'H')),\n",
       " (('8', 'S'), ('10', 'D')),\n",
       " (('8', 'S'), ('10', 'C')),\n",
       " (('8', 'S'), ('10', 'S')),\n",
       " (('8', 'S'), ('J', 'H')),\n",
       " (('8', 'S'), ('J', 'D')),\n",
       " (('8', 'S'), ('J', 'C')),\n",
       " (('8', 'S'), ('J', 'S')),\n",
       " (('8', 'S'), ('Q', 'H')),\n",
       " (('8', 'S'), ('Q', 'D')),\n",
       " (('8', 'S'), ('Q', 'C')),\n",
       " (('8', 'S'), ('Q', 'S')),\n",
       " (('8', 'S'), ('K', 'H')),\n",
       " (('8', 'S'), ('K', 'D')),\n",
       " (('8', 'S'), ('K', 'C')),\n",
       " (('8', 'S'), ('K', 'S')),\n",
       " (('8', 'S'), ('A', 'H')),\n",
       " (('8', 'S'), ('A', 'D')),\n",
       " (('8', 'S'), ('A', 'C')),\n",
       " (('8', 'S'), ('A', 'S')),\n",
       " (('9', 'H'), ('9', 'D')),\n",
       " (('9', 'H'), ('9', 'C')),\n",
       " (('9', 'H'), ('9', 'S')),\n",
       " (('9', 'H'), ('10', 'H')),\n",
       " (('9', 'H'), ('10', 'D')),\n",
       " (('9', 'H'), ('10', 'C')),\n",
       " (('9', 'H'), ('10', 'S')),\n",
       " (('9', 'H'), ('J', 'H')),\n",
       " (('9', 'H'), ('J', 'D')),\n",
       " (('9', 'H'), ('J', 'C')),\n",
       " (('9', 'H'), ('J', 'S')),\n",
       " (('9', 'H'), ('Q', 'H')),\n",
       " (('9', 'H'), ('Q', 'D')),\n",
       " (('9', 'H'), ('Q', 'C')),\n",
       " (('9', 'H'), ('Q', 'S')),\n",
       " (('9', 'H'), ('K', 'H')),\n",
       " (('9', 'H'), ('K', 'D')),\n",
       " (('9', 'H'), ('K', 'C')),\n",
       " (('9', 'H'), ('K', 'S')),\n",
       " (('9', 'H'), ('A', 'H')),\n",
       " (('9', 'H'), ('A', 'D')),\n",
       " (('9', 'H'), ('A', 'C')),\n",
       " (('9', 'H'), ('A', 'S')),\n",
       " (('9', 'D'), ('9', 'C')),\n",
       " (('9', 'D'), ('9', 'S')),\n",
       " (('9', 'D'), ('10', 'H')),\n",
       " (('9', 'D'), ('10', 'D')),\n",
       " (('9', 'D'), ('10', 'C')),\n",
       " (('9', 'D'), ('10', 'S')),\n",
       " (('9', 'D'), ('J', 'H')),\n",
       " (('9', 'D'), ('J', 'D')),\n",
       " (('9', 'D'), ('J', 'C')),\n",
       " (('9', 'D'), ('J', 'S')),\n",
       " (('9', 'D'), ('Q', 'H')),\n",
       " (('9', 'D'), ('Q', 'D')),\n",
       " (('9', 'D'), ('Q', 'C')),\n",
       " (('9', 'D'), ('Q', 'S')),\n",
       " (('9', 'D'), ('K', 'H')),\n",
       " (('9', 'D'), ('K', 'D')),\n",
       " (('9', 'D'), ('K', 'C')),\n",
       " (('9', 'D'), ('K', 'S')),\n",
       " (('9', 'D'), ('A', 'H')),\n",
       " (('9', 'D'), ('A', 'D')),\n",
       " (('9', 'D'), ('A', 'C')),\n",
       " (('9', 'D'), ('A', 'S')),\n",
       " (('9', 'C'), ('9', 'S')),\n",
       " (('9', 'C'), ('10', 'H')),\n",
       " (('9', 'C'), ('10', 'D')),\n",
       " (('9', 'C'), ('10', 'C')),\n",
       " (('9', 'C'), ('10', 'S')),\n",
       " (('9', 'C'), ('J', 'H')),\n",
       " (('9', 'C'), ('J', 'D')),\n",
       " (('9', 'C'), ('J', 'C')),\n",
       " (('9', 'C'), ('J', 'S')),\n",
       " (('9', 'C'), ('Q', 'H')),\n",
       " (('9', 'C'), ('Q', 'D')),\n",
       " (('9', 'C'), ('Q', 'C')),\n",
       " (('9', 'C'), ('Q', 'S')),\n",
       " (('9', 'C'), ('K', 'H')),\n",
       " (('9', 'C'), ('K', 'D')),\n",
       " (('9', 'C'), ('K', 'C')),\n",
       " (('9', 'C'), ('K', 'S')),\n",
       " (('9', 'C'), ('A', 'H')),\n",
       " (('9', 'C'), ('A', 'D')),\n",
       " (('9', 'C'), ('A', 'C')),\n",
       " (('9', 'C'), ('A', 'S')),\n",
       " (('9', 'S'), ('10', 'H')),\n",
       " (('9', 'S'), ('10', 'D')),\n",
       " (('9', 'S'), ('10', 'C')),\n",
       " (('9', 'S'), ('10', 'S')),\n",
       " (('9', 'S'), ('J', 'H')),\n",
       " (('9', 'S'), ('J', 'D')),\n",
       " (('9', 'S'), ('J', 'C')),\n",
       " (('9', 'S'), ('J', 'S')),\n",
       " (('9', 'S'), ('Q', 'H')),\n",
       " (('9', 'S'), ('Q', 'D')),\n",
       " (('9', 'S'), ('Q', 'C')),\n",
       " (('9', 'S'), ('Q', 'S')),\n",
       " (('9', 'S'), ('K', 'H')),\n",
       " (('9', 'S'), ('K', 'D')),\n",
       " (('9', 'S'), ('K', 'C')),\n",
       " (('9', 'S'), ('K', 'S')),\n",
       " (('9', 'S'), ('A', 'H')),\n",
       " (('9', 'S'), ('A', 'D')),\n",
       " (('9', 'S'), ('A', 'C')),\n",
       " (('9', 'S'), ('A', 'S')),\n",
       " (('10', 'H'), ('10', 'D')),\n",
       " (('10', 'H'), ('10', 'C')),\n",
       " (('10', 'H'), ('10', 'S')),\n",
       " (('10', 'H'), ('J', 'H')),\n",
       " (('10', 'H'), ('J', 'D')),\n",
       " (('10', 'H'), ('J', 'C')),\n",
       " (('10', 'H'), ('J', 'S')),\n",
       " (('10', 'H'), ('Q', 'H')),\n",
       " (('10', 'H'), ('Q', 'D')),\n",
       " (('10', 'H'), ('Q', 'C')),\n",
       " (('10', 'H'), ('Q', 'S')),\n",
       " (('10', 'H'), ('K', 'H')),\n",
       " (('10', 'H'), ('K', 'D')),\n",
       " (('10', 'H'), ('K', 'C')),\n",
       " (('10', 'H'), ('K', 'S')),\n",
       " (('10', 'H'), ('A', 'H')),\n",
       " (('10', 'H'), ('A', 'D')),\n",
       " (('10', 'H'), ('A', 'C')),\n",
       " (('10', 'H'), ('A', 'S')),\n",
       " (('10', 'D'), ('10', 'C')),\n",
       " (('10', 'D'), ('10', 'S')),\n",
       " (('10', 'D'), ('J', 'H')),\n",
       " (('10', 'D'), ('J', 'D')),\n",
       " (('10', 'D'), ('J', 'C')),\n",
       " (('10', 'D'), ('J', 'S')),\n",
       " (('10', 'D'), ('Q', 'H')),\n",
       " (('10', 'D'), ('Q', 'D')),\n",
       " (('10', 'D'), ('Q', 'C')),\n",
       " (('10', 'D'), ('Q', 'S')),\n",
       " (('10', 'D'), ('K', 'H')),\n",
       " (('10', 'D'), ('K', 'D')),\n",
       " (('10', 'D'), ('K', 'C')),\n",
       " (('10', 'D'), ('K', 'S')),\n",
       " (('10', 'D'), ('A', 'H')),\n",
       " (('10', 'D'), ('A', 'D')),\n",
       " (('10', 'D'), ('A', 'C')),\n",
       " (('10', 'D'), ('A', 'S')),\n",
       " (('10', 'C'), ('10', 'S')),\n",
       " (('10', 'C'), ('J', 'H')),\n",
       " (('10', 'C'), ('J', 'D')),\n",
       " (('10', 'C'), ('J', 'C')),\n",
       " (('10', 'C'), ('J', 'S')),\n",
       " (('10', 'C'), ('Q', 'H')),\n",
       " (('10', 'C'), ('Q', 'D')),\n",
       " (('10', 'C'), ('Q', 'C')),\n",
       " (('10', 'C'), ('Q', 'S')),\n",
       " (('10', 'C'), ('K', 'H')),\n",
       " (('10', 'C'), ('K', 'D')),\n",
       " (('10', 'C'), ('K', 'C')),\n",
       " (('10', 'C'), ('K', 'S')),\n",
       " (('10', 'C'), ('A', 'H')),\n",
       " (('10', 'C'), ('A', 'D')),\n",
       " (('10', 'C'), ('A', 'C')),\n",
       " (('10', 'C'), ('A', 'S')),\n",
       " (('10', 'S'), ('J', 'H')),\n",
       " (('10', 'S'), ('J', 'D')),\n",
       " (('10', 'S'), ('J', 'C')),\n",
       " (('10', 'S'), ('J', 'S')),\n",
       " (('10', 'S'), ('Q', 'H')),\n",
       " (('10', 'S'), ('Q', 'D')),\n",
       " (('10', 'S'), ('Q', 'C')),\n",
       " (('10', 'S'), ('Q', 'S')),\n",
       " (('10', 'S'), ('K', 'H')),\n",
       " (('10', 'S'), ('K', 'D')),\n",
       " (('10', 'S'), ('K', 'C')),\n",
       " (('10', 'S'), ('K', 'S')),\n",
       " (('10', 'S'), ('A', 'H')),\n",
       " (('10', 'S'), ('A', 'D')),\n",
       " (('10', 'S'), ('A', 'C')),\n",
       " (('10', 'S'), ('A', 'S')),\n",
       " (('J', 'H'), ('J', 'D')),\n",
       " (('J', 'H'), ('J', 'C')),\n",
       " (('J', 'H'), ('J', 'S')),\n",
       " (('J', 'H'), ('Q', 'H')),\n",
       " (('J', 'H'), ('Q', 'D')),\n",
       " (('J', 'H'), ('Q', 'C')),\n",
       " (('J', 'H'), ('Q', 'S')),\n",
       " (('J', 'H'), ('K', 'H')),\n",
       " (('J', 'H'), ('K', 'D')),\n",
       " (('J', 'H'), ('K', 'C')),\n",
       " (('J', 'H'), ('K', 'S')),\n",
       " (('J', 'H'), ('A', 'H')),\n",
       " (('J', 'H'), ('A', 'D')),\n",
       " (('J', 'H'), ('A', 'C')),\n",
       " (('J', 'H'), ('A', 'S')),\n",
       " (('J', 'D'), ('J', 'C')),\n",
       " (('J', 'D'), ('J', 'S')),\n",
       " (('J', 'D'), ('Q', 'H')),\n",
       " (('J', 'D'), ('Q', 'D')),\n",
       " (('J', 'D'), ('Q', 'C')),\n",
       " (('J', 'D'), ('Q', 'S')),\n",
       " (('J', 'D'), ('K', 'H')),\n",
       " (('J', 'D'), ('K', 'D')),\n",
       " (('J', 'D'), ('K', 'C')),\n",
       " (('J', 'D'), ('K', 'S')),\n",
       " (('J', 'D'), ('A', 'H')),\n",
       " (('J', 'D'), ('A', 'D')),\n",
       " (('J', 'D'), ('A', 'C')),\n",
       " (('J', 'D'), ('A', 'S')),\n",
       " (('J', 'C'), ('J', 'S')),\n",
       " (('J', 'C'), ('Q', 'H')),\n",
       " (('J', 'C'), ('Q', 'D')),\n",
       " (('J', 'C'), ('Q', 'C')),\n",
       " (('J', 'C'), ('Q', 'S')),\n",
       " (('J', 'C'), ('K', 'H')),\n",
       " (('J', 'C'), ('K', 'D')),\n",
       " (('J', 'C'), ('K', 'C')),\n",
       " (('J', 'C'), ('K', 'S')),\n",
       " (('J', 'C'), ('A', 'H')),\n",
       " (('J', 'C'), ('A', 'D')),\n",
       " (('J', 'C'), ('A', 'C')),\n",
       " (('J', 'C'), ('A', 'S')),\n",
       " (('J', 'S'), ('Q', 'H')),\n",
       " (('J', 'S'), ('Q', 'D')),\n",
       " (('J', 'S'), ('Q', 'C')),\n",
       " (('J', 'S'), ('Q', 'S')),\n",
       " (('J', 'S'), ('K', 'H')),\n",
       " (('J', 'S'), ('K', 'D')),\n",
       " (('J', 'S'), ('K', 'C')),\n",
       " (('J', 'S'), ('K', 'S')),\n",
       " (('J', 'S'), ('A', 'H')),\n",
       " (('J', 'S'), ('A', 'D')),\n",
       " (('J', 'S'), ('A', 'C')),\n",
       " (('J', 'S'), ('A', 'S')),\n",
       " (('Q', 'H'), ('Q', 'D')),\n",
       " (('Q', 'H'), ('Q', 'C')),\n",
       " (('Q', 'H'), ('Q', 'S')),\n",
       " (('Q', 'H'), ('K', 'H')),\n",
       " (('Q', 'H'), ('K', 'D')),\n",
       " (('Q', 'H'), ('K', 'C')),\n",
       " (('Q', 'H'), ('K', 'S')),\n",
       " (('Q', 'H'), ('A', 'H')),\n",
       " (('Q', 'H'), ('A', 'D')),\n",
       " (('Q', 'H'), ('A', 'C')),\n",
       " (('Q', 'H'), ('A', 'S')),\n",
       " (('Q', 'D'), ('Q', 'C')),\n",
       " (('Q', 'D'), ('Q', 'S')),\n",
       " (('Q', 'D'), ('K', 'H')),\n",
       " (('Q', 'D'), ('K', 'D')),\n",
       " (('Q', 'D'), ('K', 'C')),\n",
       " (('Q', 'D'), ('K', 'S')),\n",
       " (('Q', 'D'), ('A', 'H')),\n",
       " (('Q', 'D'), ('A', 'D')),\n",
       " (('Q', 'D'), ('A', 'C')),\n",
       " (('Q', 'D'), ('A', 'S')),\n",
       " (('Q', 'C'), ('Q', 'S')),\n",
       " (('Q', 'C'), ('K', 'H')),\n",
       " (('Q', 'C'), ('K', 'D')),\n",
       " (('Q', 'C'), ('K', 'C')),\n",
       " (('Q', 'C'), ('K', 'S')),\n",
       " (('Q', 'C'), ('A', 'H')),\n",
       " (('Q', 'C'), ('A', 'D')),\n",
       " (('Q', 'C'), ('A', 'C')),\n",
       " (('Q', 'C'), ('A', 'S')),\n",
       " (('Q', 'S'), ('K', 'H')),\n",
       " (('Q', 'S'), ('K', 'D')),\n",
       " (('Q', 'S'), ('K', 'C')),\n",
       " (('Q', 'S'), ('K', 'S')),\n",
       " (('Q', 'S'), ('A', 'H')),\n",
       " (('Q', 'S'), ('A', 'D')),\n",
       " (('Q', 'S'), ('A', 'C')),\n",
       " (('Q', 'S'), ('A', 'S')),\n",
       " (('K', 'H'), ('K', 'D')),\n",
       " (('K', 'H'), ('K', 'C')),\n",
       " (('K', 'H'), ('K', 'S')),\n",
       " (('K', 'H'), ('A', 'H')),\n",
       " (('K', 'H'), ('A', 'D')),\n",
       " (('K', 'H'), ('A', 'C')),\n",
       " (('K', 'H'), ('A', 'S')),\n",
       " (('K', 'D'), ('K', 'C')),\n",
       " (('K', 'D'), ('K', 'S')),\n",
       " (('K', 'D'), ('A', 'H')),\n",
       " (('K', 'D'), ('A', 'D')),\n",
       " (('K', 'D'), ('A', 'C')),\n",
       " (('K', 'D'), ('A', 'S')),\n",
       " (('K', 'C'), ('K', 'S')),\n",
       " (('K', 'C'), ('A', 'H')),\n",
       " (('K', 'C'), ('A', 'D')),\n",
       " (('K', 'C'), ('A', 'C')),\n",
       " (('K', 'C'), ('A', 'S')),\n",
       " (('K', 'S'), ('A', 'H')),\n",
       " (('K', 'S'), ('A', 'D')),\n",
       " (('K', 'S'), ('A', 'C')),\n",
       " (('K', 'S'), ('A', 'S')),\n",
       " (('A', 'H'), ('A', 'D')),\n",
       " (('A', 'H'), ('A', 'C')),\n",
       " (('A', 'H'), ('A', 'S')),\n",
       " (('A', 'D'), ('A', 'C')),\n",
       " (('A', 'D'), ('A', 'S')),\n",
       " (('A', 'C'), ('A', 'S'))]"
      ]
     },
     "execution_count": 50,
     "metadata": {},
     "output_type": "execute_result"
    }
   ],
   "source": [
    "list(it.combinations(lst, 2))"
   ]
  },
  {
   "cell_type": "code",
   "execution_count": 51,
   "id": "1ee8947e",
   "metadata": {},
   "outputs": [
    {
     "data": {
      "text/plain": [
       "[('A', 'B'), ('A', 'C'), ('A', 'D'), ('B', 'C'), ('B', 'D'), ('C', 'D')]"
      ]
     },
     "execution_count": 51,
     "metadata": {},
     "output_type": "execute_result"
    }
   ],
   "source": [
    "list(it.combinations('ABCD', 2))"
   ]
  },
  {
   "cell_type": "code",
   "execution_count": 52,
   "id": "b8e8b3e5",
   "metadata": {},
   "outputs": [
    {
     "data": {
      "text/plain": [
       "[('A', 'A'),\n",
       " ('A', 'B'),\n",
       " ('A', 'C'),\n",
       " ('A', 'D'),\n",
       " ('B', 'B'),\n",
       " ('B', 'C'),\n",
       " ('B', 'D'),\n",
       " ('C', 'C'),\n",
       " ('C', 'D'),\n",
       " ('D', 'D')]"
      ]
     },
     "execution_count": 52,
     "metadata": {},
     "output_type": "execute_result"
    }
   ],
   "source": [
    "list(it.combinations_with_replacement('ABCD', 2))"
   ]
  },
  {
   "cell_type": "code",
   "execution_count": null,
   "id": "13855e28",
   "metadata": {},
   "outputs": [],
   "source": []
  }
 ],
 "metadata": {
  "kernelspec": {
   "display_name": "Python 3 (ipykernel)",
   "language": "python",
   "name": "python3"
  },
  "language_info": {
   "codemirror_mode": {
    "name": "ipython",
    "version": 3
   },
   "file_extension": ".py",
   "mimetype": "text/x-python",
   "name": "python",
   "nbconvert_exporter": "python",
   "pygments_lexer": "ipython3",
   "version": "3.10.9"
  }
 },
 "nbformat": 4,
 "nbformat_minor": 5
}
