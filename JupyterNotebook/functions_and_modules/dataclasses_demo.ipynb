{
 "cells": [
  {
   "cell_type": "code",
   "execution_count": 1,
   "id": "0925f594",
   "metadata": {},
   "outputs": [],
   "source": [
    "class Question:\n",
    "    \n",
    "    def __init__(self, text, is_true, explanation):\n",
    "        self.text = text\n",
    "        self.is_true = is_true\n",
    "        self.explanation = explanation"
   ]
  },
  {
   "cell_type": "code",
   "execution_count": 2,
   "id": "eb5cc028",
   "metadata": {},
   "outputs": [],
   "source": [
    "from dataclasses import dataclass\n",
    "\n",
    "@dataclass\n",
    "class Question:\n",
    "    text: str\n",
    "    is_true: bool\n",
    "    explanation: str"
   ]
  },
  {
   "cell_type": "code",
   "execution_count": 4,
   "id": "dc713214",
   "metadata": {},
   "outputs": [
    {
     "data": {
      "text/plain": [
       "'test'"
      ]
     },
     "execution_count": 4,
     "metadata": {},
     "output_type": "execute_result"
    }
   ],
   "source": [
    "q = Question('test', True, 'because')\n",
    "q.text"
   ]
  },
  {
   "cell_type": "code",
   "execution_count": 5,
   "id": "188d9d46",
   "metadata": {},
   "outputs": [
    {
     "ename": "TypeError",
     "evalue": "Question.__init__() missing 1 required positional argument: 'explanation'",
     "output_type": "error",
     "traceback": [
      "\u001b[1;31m---------------------------------------------------------------------------\u001b[0m",
      "\u001b[1;31mTypeError\u001b[0m                                 Traceback (most recent call last)",
      "Cell \u001b[1;32mIn[5], line 1\u001b[0m\n\u001b[1;32m----> 1\u001b[0m q \u001b[38;5;241m=\u001b[39m \u001b[43mQuestion\u001b[49m\u001b[43m(\u001b[49m\u001b[38;5;124;43m'\u001b[39;49m\u001b[38;5;124;43mtest\u001b[39;49m\u001b[38;5;124;43m'\u001b[39;49m\u001b[43m,\u001b[49m\u001b[43m \u001b[49m\u001b[38;5;28;43;01mTrue\u001b[39;49;00m\u001b[43m)\u001b[49m\n",
      "\u001b[1;31mTypeError\u001b[0m: Question.__init__() missing 1 required positional argument: 'explanation'"
     ]
    }
   ],
   "source": [
    "q = Question('test', True)"
   ]
  },
  {
   "cell_type": "code",
   "execution_count": 6,
   "id": "057e4527",
   "metadata": {},
   "outputs": [],
   "source": [
    "@dataclass\n",
    "class Question:\n",
    "    text: str = ''\n",
    "    is_true: bool = False\n",
    "    explanation: str = ''"
   ]
  },
  {
   "cell_type": "code",
   "execution_count": 7,
   "id": "1c17ff98",
   "metadata": {},
   "outputs": [
    {
     "data": {
      "text/plain": [
       "'hi'"
      ]
     },
     "execution_count": 7,
     "metadata": {},
     "output_type": "execute_result"
    }
   ],
   "source": [
    "q = Question()\n",
    "q.text = 'hi'\n",
    "q.text"
   ]
  },
  {
   "cell_type": "code",
   "execution_count": 8,
   "id": "4975f1d9",
   "metadata": {},
   "outputs": [],
   "source": [
    "@dataclass(frozen=True)\n",
    "class Question:\n",
    "    text: str = ''\n",
    "    is_true: bool = False\n",
    "    explanation: str = ''"
   ]
  },
  {
   "cell_type": "code",
   "execution_count": 9,
   "id": "dd48eac5",
   "metadata": {},
   "outputs": [
    {
     "data": {
      "text/plain": [
       "'test'"
      ]
     },
     "execution_count": 9,
     "metadata": {},
     "output_type": "execute_result"
    }
   ],
   "source": [
    "q = Question('test', True, 'because')\n",
    "q.text"
   ]
  },
  {
   "cell_type": "code",
   "execution_count": 10,
   "id": "e6143bd8",
   "metadata": {},
   "outputs": [
    {
     "ename": "FrozenInstanceError",
     "evalue": "cannot assign to field 'text'",
     "output_type": "error",
     "traceback": [
      "\u001b[1;31m---------------------------------------------------------------------------\u001b[0m",
      "\u001b[1;31mFrozenInstanceError\u001b[0m                       Traceback (most recent call last)",
      "Cell \u001b[1;32mIn[10], line 1\u001b[0m\n\u001b[1;32m----> 1\u001b[0m q\u001b[38;5;241m.\u001b[39mtext \u001b[38;5;241m=\u001b[39m \u001b[38;5;124m'\u001b[39m\u001b[38;5;124mchange\u001b[39m\u001b[38;5;124m'\u001b[39m\n",
      "File \u001b[1;32m<string>:4\u001b[0m, in \u001b[0;36m__setattr__\u001b[1;34m(self, name, value)\u001b[0m\n",
      "\u001b[1;31mFrozenInstanceError\u001b[0m: cannot assign to field 'text'"
     ]
    }
   ],
   "source": [
    "q.text = 'change'"
   ]
  },
  {
   "cell_type": "markdown",
   "id": "4e17a3b0",
   "metadata": {},
   "source": [
    "https://habr.com/ru/post/415829"
   ]
  },
  {
   "cell_type": "code",
   "execution_count": null,
   "id": "32da1682",
   "metadata": {},
   "outputs": [],
   "source": []
  }
 ],
 "metadata": {
  "kernelspec": {
   "display_name": "Python 3 (ipykernel)",
   "language": "python",
   "name": "python3"
  },
  "language_info": {
   "codemirror_mode": {
    "name": "ipython",
    "version": 3
   },
   "file_extension": ".py",
   "mimetype": "text/x-python",
   "name": "python",
   "nbconvert_exporter": "python",
   "pygments_lexer": "ipython3",
   "version": "3.10.9"
  }
 },
 "nbformat": 4,
 "nbformat_minor": 5
}
