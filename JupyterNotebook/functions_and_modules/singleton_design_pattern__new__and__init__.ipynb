{
 "cells": [
  {
   "cell_type": "code",
   "execution_count": 7,
   "id": "ce060860",
   "metadata": {},
   "outputs": [],
   "source": [
    "class Character(object):\n",
    "    \n",
    "    def __new__(cls): # new отвечает за конструирование объекта / аллоцирует в память\n",
    "        obj = super().__new__(cls)\n",
    "        return obj\n",
    "        \n",
    "    def __init__(self):\n",
    "        self.race = 'Elf'"
   ]
  },
  {
   "cell_type": "code",
   "execution_count": 8,
   "id": "f853a3a9",
   "metadata": {},
   "outputs": [
    {
     "data": {
      "text/plain": [
       "'Elf'"
      ]
     },
     "execution_count": 8,
     "metadata": {},
     "output_type": "execute_result"
    }
   ],
   "source": [
    "c = Character()\n",
    "c.race"
   ]
  },
  {
   "cell_type": "code",
   "execution_count": 9,
   "id": "5633db8a",
   "metadata": {},
   "outputs": [],
   "source": [
    "class Character(): # singleton design\n",
    "    \n",
    "    _instance = None\n",
    "    \n",
    "    def __new__(cls):\n",
    "        if not cls._instance:\n",
    "            cls._instance = super().__new__(cls)\n",
    "        return cls._instance\n",
    "        \n",
    "    def __init__(self):\n",
    "        self.race = 'Elf'"
   ]
  },
  {
   "cell_type": "code",
   "execution_count": 10,
   "id": "a6f326a8",
   "metadata": {},
   "outputs": [
    {
     "data": {
      "text/plain": [
       "'Elf'"
      ]
     },
     "execution_count": 10,
     "metadata": {},
     "output_type": "execute_result"
    }
   ],
   "source": [
    "c = Character()\n",
    "c.race"
   ]
  },
  {
   "cell_type": "code",
   "execution_count": 11,
   "id": "715e86ef",
   "metadata": {},
   "outputs": [],
   "source": [
    "d = Character()\n",
    "d.race = 'Ork'"
   ]
  },
  {
   "cell_type": "code",
   "execution_count": 12,
   "id": "75cdedc8",
   "metadata": {},
   "outputs": [
    {
     "name": "stdout",
     "output_type": "stream",
     "text": [
      "Ork\n",
      "Ork\n"
     ]
    }
   ],
   "source": [
    "print(c.race)\n",
    "print(d.race)"
   ]
  },
  {
   "cell_type": "code",
   "execution_count": null,
   "id": "5de12fa1",
   "metadata": {},
   "outputs": [],
   "source": []
  }
 ],
 "metadata": {
  "kernelspec": {
   "display_name": "Python 3 (ipykernel)",
   "language": "python",
   "name": "python3"
  },
  "language_info": {
   "codemirror_mode": {
    "name": "ipython",
    "version": 3
   },
   "file_extension": ".py",
   "mimetype": "text/x-python",
   "name": "python",
   "nbconvert_exporter": "python",
   "pygments_lexer": "ipython3",
   "version": "3.10.9"
  }
 },
 "nbformat": 4,
 "nbformat_minor": 5
}
