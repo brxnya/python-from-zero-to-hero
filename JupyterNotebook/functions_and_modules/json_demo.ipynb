{
 "cells": [
  {
   "cell_type": "code",
   "execution_count": 1,
   "id": "ddabd70a",
   "metadata": {},
   "outputs": [],
   "source": [
    "import json"
   ]
  },
  {
   "cell_type": "code",
   "execution_count": 2,
   "id": "c5215fde",
   "metadata": {},
   "outputs": [],
   "source": [
    "class Tournament:\n",
    "    \n",
    "    def __init__(self, name, year):\n",
    "        self.name = name\n",
    "        self.year = year"
   ]
  },
  {
   "cell_type": "code",
   "execution_count": 3,
   "id": "157b49e4",
   "metadata": {},
   "outputs": [
    {
     "name": "stdout",
     "output_type": "stream",
     "text": [
      "<class 'str'>\n",
      "{\n",
      "  \"Aeroflot Open\": 2010,\n",
      "  \"FIDE World Cup\": 2018,\n",
      "  \"FIDE Grand Prix\": 2016\n",
      "}\n",
      "<class 'dict'>\n",
      "{'Aeroflot Open': 2010, 'FIDE World Cup': 2018, 'FIDE Grand Prix': 2016}\n"
     ]
    }
   ],
   "source": [
    "tournaments = {\n",
    "    \"Aeroflot Open\": 2010,\n",
    "    \"FIDE World Cup\": 2018,\n",
    "    \"FIDE Grand Prix\": 2016\n",
    "}\n",
    "\n",
    "json_data = json.dumps(tournaments, indent = 2) # serialization\n",
    "print(type(json_data))\n",
    "print(json_data)\n",
    "\n",
    "loaded = json.loads(json_data) # deserialization\n",
    "print(type(loaded))\n",
    "print(loaded)"
   ]
  },
  {
   "cell_type": "code",
   "execution_count": 4,
   "id": "504a0374",
   "metadata": {},
   "outputs": [
    {
     "ename": "TypeError",
     "evalue": "Object of type Tournament is not JSON serializable",
     "output_type": "error",
     "traceback": [
      "\u001b[1;31m---------------------------------------------------------------------------\u001b[0m",
      "\u001b[1;31mTypeError\u001b[0m                                 Traceback (most recent call last)",
      "Cell \u001b[1;32mIn[4], line 2\u001b[0m\n\u001b[0;32m      1\u001b[0m t1 \u001b[38;5;241m=\u001b[39m Tournament(\u001b[38;5;124m\"\u001b[39m\u001b[38;5;124mAeroflot Open\u001b[39m\u001b[38;5;124m\"\u001b[39m, \u001b[38;5;241m2010\u001b[39m)\n\u001b[1;32m----> 2\u001b[0m json_data \u001b[38;5;241m=\u001b[39m \u001b[43mjson\u001b[49m\u001b[38;5;241;43m.\u001b[39;49m\u001b[43mdumps\u001b[49m\u001b[43m(\u001b[49m\u001b[43mt1\u001b[49m\u001b[43m)\u001b[49m\n",
      "File \u001b[1;32mC:\\ProgramData\\anaconda3\\lib\\json\\__init__.py:231\u001b[0m, in \u001b[0;36mdumps\u001b[1;34m(obj, skipkeys, ensure_ascii, check_circular, allow_nan, cls, indent, separators, default, sort_keys, **kw)\u001b[0m\n\u001b[0;32m    226\u001b[0m \u001b[38;5;66;03m# cached encoder\u001b[39;00m\n\u001b[0;32m    227\u001b[0m \u001b[38;5;28;01mif\u001b[39;00m (\u001b[38;5;129;01mnot\u001b[39;00m skipkeys \u001b[38;5;129;01mand\u001b[39;00m ensure_ascii \u001b[38;5;129;01mand\u001b[39;00m\n\u001b[0;32m    228\u001b[0m     check_circular \u001b[38;5;129;01mand\u001b[39;00m allow_nan \u001b[38;5;129;01mand\u001b[39;00m\n\u001b[0;32m    229\u001b[0m     \u001b[38;5;28mcls\u001b[39m \u001b[38;5;129;01mis\u001b[39;00m \u001b[38;5;28;01mNone\u001b[39;00m \u001b[38;5;129;01mand\u001b[39;00m indent \u001b[38;5;129;01mis\u001b[39;00m \u001b[38;5;28;01mNone\u001b[39;00m \u001b[38;5;129;01mand\u001b[39;00m separators \u001b[38;5;129;01mis\u001b[39;00m \u001b[38;5;28;01mNone\u001b[39;00m \u001b[38;5;129;01mand\u001b[39;00m\n\u001b[0;32m    230\u001b[0m     default \u001b[38;5;129;01mis\u001b[39;00m \u001b[38;5;28;01mNone\u001b[39;00m \u001b[38;5;129;01mand\u001b[39;00m \u001b[38;5;129;01mnot\u001b[39;00m sort_keys \u001b[38;5;129;01mand\u001b[39;00m \u001b[38;5;129;01mnot\u001b[39;00m kw):\n\u001b[1;32m--> 231\u001b[0m     \u001b[38;5;28;01mreturn\u001b[39;00m \u001b[43m_default_encoder\u001b[49m\u001b[38;5;241;43m.\u001b[39;49m\u001b[43mencode\u001b[49m\u001b[43m(\u001b[49m\u001b[43mobj\u001b[49m\u001b[43m)\u001b[49m\n\u001b[0;32m    232\u001b[0m \u001b[38;5;28;01mif\u001b[39;00m \u001b[38;5;28mcls\u001b[39m \u001b[38;5;129;01mis\u001b[39;00m \u001b[38;5;28;01mNone\u001b[39;00m:\n\u001b[0;32m    233\u001b[0m     \u001b[38;5;28mcls\u001b[39m \u001b[38;5;241m=\u001b[39m JSONEncoder\n",
      "File \u001b[1;32mC:\\ProgramData\\anaconda3\\lib\\json\\encoder.py:199\u001b[0m, in \u001b[0;36mJSONEncoder.encode\u001b[1;34m(self, o)\u001b[0m\n\u001b[0;32m    195\u001b[0m         \u001b[38;5;28;01mreturn\u001b[39;00m encode_basestring(o)\n\u001b[0;32m    196\u001b[0m \u001b[38;5;66;03m# This doesn't pass the iterator directly to ''.join() because the\u001b[39;00m\n\u001b[0;32m    197\u001b[0m \u001b[38;5;66;03m# exceptions aren't as detailed.  The list call should be roughly\u001b[39;00m\n\u001b[0;32m    198\u001b[0m \u001b[38;5;66;03m# equivalent to the PySequence_Fast that ''.join() would do.\u001b[39;00m\n\u001b[1;32m--> 199\u001b[0m chunks \u001b[38;5;241m=\u001b[39m \u001b[38;5;28;43mself\u001b[39;49m\u001b[38;5;241;43m.\u001b[39;49m\u001b[43miterencode\u001b[49m\u001b[43m(\u001b[49m\u001b[43mo\u001b[49m\u001b[43m,\u001b[49m\u001b[43m \u001b[49m\u001b[43m_one_shot\u001b[49m\u001b[38;5;241;43m=\u001b[39;49m\u001b[38;5;28;43;01mTrue\u001b[39;49;00m\u001b[43m)\u001b[49m\n\u001b[0;32m    200\u001b[0m \u001b[38;5;28;01mif\u001b[39;00m \u001b[38;5;129;01mnot\u001b[39;00m \u001b[38;5;28misinstance\u001b[39m(chunks, (\u001b[38;5;28mlist\u001b[39m, \u001b[38;5;28mtuple\u001b[39m)):\n\u001b[0;32m    201\u001b[0m     chunks \u001b[38;5;241m=\u001b[39m \u001b[38;5;28mlist\u001b[39m(chunks)\n",
      "File \u001b[1;32mC:\\ProgramData\\anaconda3\\lib\\json\\encoder.py:257\u001b[0m, in \u001b[0;36mJSONEncoder.iterencode\u001b[1;34m(self, o, _one_shot)\u001b[0m\n\u001b[0;32m    252\u001b[0m \u001b[38;5;28;01melse\u001b[39;00m:\n\u001b[0;32m    253\u001b[0m     _iterencode \u001b[38;5;241m=\u001b[39m _make_iterencode(\n\u001b[0;32m    254\u001b[0m         markers, \u001b[38;5;28mself\u001b[39m\u001b[38;5;241m.\u001b[39mdefault, _encoder, \u001b[38;5;28mself\u001b[39m\u001b[38;5;241m.\u001b[39mindent, floatstr,\n\u001b[0;32m    255\u001b[0m         \u001b[38;5;28mself\u001b[39m\u001b[38;5;241m.\u001b[39mkey_separator, \u001b[38;5;28mself\u001b[39m\u001b[38;5;241m.\u001b[39mitem_separator, \u001b[38;5;28mself\u001b[39m\u001b[38;5;241m.\u001b[39msort_keys,\n\u001b[0;32m    256\u001b[0m         \u001b[38;5;28mself\u001b[39m\u001b[38;5;241m.\u001b[39mskipkeys, _one_shot)\n\u001b[1;32m--> 257\u001b[0m \u001b[38;5;28;01mreturn\u001b[39;00m \u001b[43m_iterencode\u001b[49m\u001b[43m(\u001b[49m\u001b[43mo\u001b[49m\u001b[43m,\u001b[49m\u001b[43m \u001b[49m\u001b[38;5;241;43m0\u001b[39;49m\u001b[43m)\u001b[49m\n",
      "File \u001b[1;32mC:\\ProgramData\\anaconda3\\lib\\json\\encoder.py:179\u001b[0m, in \u001b[0;36mJSONEncoder.default\u001b[1;34m(self, o)\u001b[0m\n\u001b[0;32m    160\u001b[0m \u001b[38;5;28;01mdef\u001b[39;00m \u001b[38;5;21mdefault\u001b[39m(\u001b[38;5;28mself\u001b[39m, o):\n\u001b[0;32m    161\u001b[0m     \u001b[38;5;124;03m\"\"\"Implement this method in a subclass such that it returns\u001b[39;00m\n\u001b[0;32m    162\u001b[0m \u001b[38;5;124;03m    a serializable object for ``o``, or calls the base implementation\u001b[39;00m\n\u001b[0;32m    163\u001b[0m \u001b[38;5;124;03m    (to raise a ``TypeError``).\u001b[39;00m\n\u001b[1;32m   (...)\u001b[0m\n\u001b[0;32m    177\u001b[0m \n\u001b[0;32m    178\u001b[0m \u001b[38;5;124;03m    \"\"\"\u001b[39;00m\n\u001b[1;32m--> 179\u001b[0m     \u001b[38;5;28;01mraise\u001b[39;00m \u001b[38;5;167;01mTypeError\u001b[39;00m(\u001b[38;5;124mf\u001b[39m\u001b[38;5;124m'\u001b[39m\u001b[38;5;124mObject of type \u001b[39m\u001b[38;5;132;01m{\u001b[39;00mo\u001b[38;5;241m.\u001b[39m\u001b[38;5;18m__class__\u001b[39m\u001b[38;5;241m.\u001b[39m\u001b[38;5;18m__name__\u001b[39m\u001b[38;5;132;01m}\u001b[39;00m\u001b[38;5;124m \u001b[39m\u001b[38;5;124m'\u001b[39m\n\u001b[0;32m    180\u001b[0m                     \u001b[38;5;124mf\u001b[39m\u001b[38;5;124m'\u001b[39m\u001b[38;5;124mis not JSON serializable\u001b[39m\u001b[38;5;124m'\u001b[39m)\n",
      "\u001b[1;31mTypeError\u001b[0m: Object of type Tournament is not JSON serializable"
     ]
    }
   ],
   "source": [
    "t1 = Tournament(\"Aeroflot Open\", 2010)\n",
    "json_data = json.dumps(t1)"
   ]
  },
  {
   "cell_type": "code",
   "execution_count": 5,
   "id": "e52668ac",
   "metadata": {},
   "outputs": [
    {
     "name": "stdout",
     "output_type": "stream",
     "text": [
      "{\"name\": \"Aeroflot Open\", \"year\": 2010}\n",
      "name=Aeroflot Open, year=2010\n"
     ]
    }
   ],
   "source": [
    "json_data =json.dumps(t1.__dict__)\n",
    "print(json_data)\n",
    "t = Tournament(**json.loads(json_data))\n",
    "print(f'name={t.name}, year={t.year}')"
   ]
  },
  {
   "cell_type": "code",
   "execution_count": 6,
   "id": "348dbd4e",
   "metadata": {},
   "outputs": [],
   "source": [
    "class ChessPlayer:\n",
    "    \n",
    "    def __init__(self, tournaments):\n",
    "        self.tournaments = tournaments"
   ]
  },
  {
   "cell_type": "code",
   "execution_count": 10,
   "id": "9708613f",
   "metadata": {},
   "outputs": [],
   "source": [
    "t1 = Tournament(\"Aeroflot Open\", 2010)\n",
    "t2 = Tournament(\"FIDE World Cup\", 2018)\n",
    "t3 = Tournament(\"FIDE Grand Prix\", 2016)\n",
    "\n",
    "p1 = ChessPlayer([t1, t2, t3])"
   ]
  },
  {
   "cell_type": "code",
   "execution_count": 12,
   "id": "76b6c88f",
   "metadata": {},
   "outputs": [
    {
     "name": "stdout",
     "output_type": "stream",
     "text": [
      "{\"tournaments\": [{\"name\": \"Aeroflot Open\", \"year\": 2010}, {\"name\": \"FIDE World Cup\", \"year\": 2018}, {\"name\": \"FIDE Grand Prix\", \"year\": 2016}]}\n"
     ]
    }
   ],
   "source": [
    "json_data = json.dumps(p1, default = lambda obj: obj.__dict__)\n",
    "print(json_data)"
   ]
  },
  {
   "cell_type": "code",
   "execution_count": 13,
   "id": "338ea9fc",
   "metadata": {},
   "outputs": [
    {
     "name": "stdout",
     "output_type": "stream",
     "text": [
      "<__main__.ChessPlayer object at 0x000002941E5042E0>\n"
     ]
    }
   ],
   "source": [
    "decoded_player = ChessPlayer(**json.loads(json_data))\n",
    "print(decoded_player)"
   ]
  },
  {
   "cell_type": "code",
   "execution_count": 14,
   "id": "107186d1",
   "metadata": {},
   "outputs": [
    {
     "name": "stdout",
     "output_type": "stream",
     "text": [
      "<class 'dict'>\n",
      "{'name': 'Aeroflot Open', 'year': 2010}\n"
     ]
    }
   ],
   "source": [
    "player_tournament = decoded_player.tournaments[0]\n",
    "print(type(player_tournament))\n",
    "\n",
    "print(player_tournament)"
   ]
  },
  {
   "cell_type": "code",
   "execution_count": 15,
   "id": "5f957b9e",
   "metadata": {},
   "outputs": [
    {
     "name": "stdout",
     "output_type": "stream",
     "text": [
      "<class 'str'>\n",
      "{\n",
      "    \"tournaments\": [\n",
      "        {\n",
      "            \"name\": \"Aeroflot Open\",\n",
      "            \"year\": 2010\n",
      "        },\n",
      "        {\n",
      "            \"name\": \"FIDE World Cup\",\n",
      "            \"year\": 2018\n",
      "        },\n",
      "        {\n",
      "            \"name\": \"FIDE Grand Prix\",\n",
      "            \"year\": 2016\n",
      "        }\n",
      "    ]\n",
      "}\n",
      "<__main__.ChessPlayer object at 0x0000029420B601F0>\n",
      "[<__main__.Tournament object at 0x0000029420B60460>, <__main__.Tournament object at 0x0000029420B603D0>, <__main__.Tournament object at 0x0000029420B60340>]\n"
     ]
    }
   ],
   "source": [
    "class Tournament:\n",
    "    \n",
    "    def __init__(self, name, year):\n",
    "        self.name = name\n",
    "        self.year = year\n",
    "        \n",
    "    @classmethod\n",
    "    def from_json(cls, json_data):\n",
    "        return cls(**json_data)\n",
    "        \n",
    "class ChessPlayer:\n",
    "    \n",
    "    def __init__(self, tournaments):\n",
    "        self.tournaments = tournaments\n",
    "        \n",
    "    @classmethod\n",
    "    def from_json(cls, json_data):\n",
    "        tournaments = list(map(Tournament.from_json, json_data[\"tournaments\"]))\n",
    "        return cls(tournaments)\n",
    "    \n",
    "t1 = Tournament(\"Aeroflot Open\", 2010)\n",
    "t2 = Tournament(\"FIDE World Cup\", 2018)\n",
    "t3 = Tournament(\"FIDE Grand Prix\", 2016)\n",
    "\n",
    "p1 = ChessPlayer([t1, t2, t3])\n",
    "\n",
    "json_data = json.dumps(p1, default = lambda obj: obj.__dict__, indent = 4, sort_keys = True)\n",
    "print(type(json_data))\n",
    "print(json_data)\n",
    "\n",
    "decoded_player = ChessPlayer.from_json(json.loads(json_data))\n",
    "print(decoded_player)\n",
    "print(decoded_player.tournaments)"
   ]
  },
  {
   "cell_type": "code",
   "execution_count": null,
   "id": "3acfd7f2",
   "metadata": {},
   "outputs": [],
   "source": []
  }
 ],
 "metadata": {
  "kernelspec": {
   "display_name": "Python 3 (ipykernel)",
   "language": "python",
   "name": "python3"
  },
  "language_info": {
   "codemirror_mode": {
    "name": "ipython",
    "version": 3
   },
   "file_extension": ".py",
   "mimetype": "text/x-python",
   "name": "python",
   "nbconvert_exporter": "python",
   "pygments_lexer": "ipython3",
   "version": "3.10.9"
  }
 },
 "nbformat": 4,
 "nbformat_minor": 5
}
