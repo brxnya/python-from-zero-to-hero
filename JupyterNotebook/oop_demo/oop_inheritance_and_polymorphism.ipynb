{
 "cells": [
  {
   "cell_type": "code",
   "execution_count": 1,
   "id": "9cb6dae2",
   "metadata": {},
   "outputs": [],
   "source": [
    "class Shape():\n",
    "    \n",
    "    def __init__(self):\n",
    "        print('Shape created')\n",
    "        \n",
    "    def draw(self):\n",
    "        print('Drawing a shape')\n",
    "    def area(self):\n",
    "        print('Calc area')\n",
    "    def perimeter(self):\n",
    "        print('Calc perimeter')"
   ]
  },
  {
   "cell_type": "code",
   "execution_count": 2,
   "id": "7e2dfb9e",
   "metadata": {},
   "outputs": [
    {
     "name": "stdout",
     "output_type": "stream",
     "text": [
      "Shape created\n"
     ]
    }
   ],
   "source": [
    "shape = Shape()"
   ]
  },
  {
   "cell_type": "code",
   "execution_count": 14,
   "id": "90a966b3",
   "metadata": {},
   "outputs": [],
   "source": [
    "class Rectangle(Shape):\n",
    "    \n",
    "    def __init__(self, width, height):\n",
    "        Shape.__init__(self)\n",
    "        \n",
    "        self.width = width\n",
    "        self. height = height\n",
    "        \n",
    "        print('Rectangle created')\n",
    "        \n",
    "        Shape.area(self) # в классах наследника доступны члены базового класса\n",
    "        \n",
    "    # В наследниках мы можем переопределить члены базового класса\n",
    "    def area(self):\n",
    "        return self.width * self.height\n",
    "    \n",
    "    def perimeter(self):\n",
    "        return 2*(self.width + self.height)\n",
    "    \n",
    "    def draw(self):\n",
    "        print(f'Drawing rectangle with width={self.width} and height={self.height}')"
   ]
  },
  {
   "cell_type": "code",
   "execution_count": 15,
   "id": "67e21051",
   "metadata": {},
   "outputs": [
    {
     "name": "stdout",
     "output_type": "stream",
     "text": [
      "Shape created\n",
      "Rectangle created\n",
      "Calc area\n"
     ]
    }
   ],
   "source": [
    "rect = Rectangle(10, 15)"
   ]
  },
  {
   "cell_type": "code",
   "execution_count": 16,
   "id": "e8b20f8d",
   "metadata": {},
   "outputs": [
    {
     "data": {
      "text/plain": [
       "150"
      ]
     },
     "execution_count": 16,
     "metadata": {},
     "output_type": "execute_result"
    }
   ],
   "source": [
    "rect.area()"
   ]
  },
  {
   "cell_type": "code",
   "execution_count": 18,
   "id": "f0c0ed5f",
   "metadata": {},
   "outputs": [
    {
     "name": "stdout",
     "output_type": "stream",
     "text": [
      "50\n",
      "Drawing rectangle with width=10 and height=15\n",
      "None\n"
     ]
    }
   ],
   "source": [
    "print(rect.perimeter())\n",
    "print(rect.draw())"
   ]
  },
  {
   "cell_type": "code",
   "execution_count": 19,
   "id": "55bdef8c",
   "metadata": {},
   "outputs": [],
   "source": [
    "import math\n",
    "class Triangle(Shape):\n",
    "    def __init__(self, a, b, c):\n",
    "        Shape.__init__(self)\n",
    "        self.a = a\n",
    "        self.b = b\n",
    "        self.c = c\n",
    "            \n",
    "        print('Triagle created')\n",
    "        \n",
    "    def draw(self):\n",
    "        print(f'Drawing triangle with sides={self.a}, {self.b}, {self.c}')\n",
    "        \n",
    "    def area(self):\n",
    "        s = (self.a+self.b+self.c)/2\n",
    "        return math.sqrt(s*(s-self.a)*(s-self.b)*(s-self.c))\n",
    "    \n",
    "    def perimeter(self):\n",
    "        return self.a+self.b+self.c"
   ]
  },
  {
   "cell_type": "code",
   "execution_count": 20,
   "id": "91c7b4aa",
   "metadata": {},
   "outputs": [
    {
     "name": "stdout",
     "output_type": "stream",
     "text": [
      "Shape created\n",
      "Triagle created\n"
     ]
    }
   ],
   "source": [
    "triangle = Triangle(10,10,10)"
   ]
  },
  {
   "cell_type": "code",
   "execution_count": 21,
   "id": "dd36f39a",
   "metadata": {},
   "outputs": [
    {
     "name": "stdout",
     "output_type": "stream",
     "text": [
      "Drawing triangle with sides=10, 10, 10\n",
      "43.30127018922193\n",
      "30\n"
     ]
    }
   ],
   "source": [
    "triangle.draw()\n",
    "print(triangle.area())\n",
    "print(triangle.perimeter())"
   ]
  },
  {
   "cell_type": "code",
   "execution_count": 23,
   "id": "85bb46b9",
   "metadata": {},
   "outputs": [
    {
     "name": "stdout",
     "output_type": "stream",
     "text": [
      "Drawing rectangle with width=10 and height=15\n",
      "Drawing triangle with sides=10, 10, 10\n"
     ]
    },
    {
     "data": {
      "text/plain": [
       "'Полиморфизм в Python работает если даже если они не наследовались, имеются 2 класса, есть методы с одинаковым названием\\nи одинаковыми аргуметами, то мы можем таким образом использовать концепцию полиморфизм'"
      ]
     },
     "execution_count": 23,
     "metadata": {},
     "output_type": "execute_result"
    }
   ],
   "source": [
    "# полиморфизм\n",
    "for shape in [rect, triangle]:\n",
    "    shape.draw()\n",
    "# Полиморфизм в Python работает если даже если они не наследовались, имеются 2 класса, есть методы с одинаковым названием\n",
    "# и одинаковыми аргуметами, то мы можем таким образом использовать концепцию полиморфизм"
   ]
  },
  {
   "cell_type": "code",
   "execution_count": null,
   "id": "f5358d36",
   "metadata": {},
   "outputs": [],
   "source": []
  }
 ],
 "metadata": {
  "kernelspec": {
   "display_name": "Python 3 (ipykernel)",
   "language": "python",
   "name": "python3"
  },
  "language_info": {
   "codemirror_mode": {
    "name": "ipython",
    "version": 3
   },
   "file_extension": ".py",
   "mimetype": "text/x-python",
   "name": "python",
   "nbconvert_exporter": "python",
   "pygments_lexer": "ipython3",
   "version": "3.10.9"
  }
 },
 "nbformat": 4,
 "nbformat_minor": 5
}
