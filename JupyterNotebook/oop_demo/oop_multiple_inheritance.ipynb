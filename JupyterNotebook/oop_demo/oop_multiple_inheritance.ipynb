{
 "cells": [
  {
   "cell_type": "code",
   "execution_count": 1,
   "id": "bc01f00a",
   "metadata": {},
   "outputs": [],
   "source": [
    "class Animal:\n",
    "    def die(self):\n",
    "        print('bye-bye')\n",
    "        self.health = 0\n",
    "    \n",
    "class Carnivour:\n",
    "    def hunt(self):\n",
    "        print('eating')\n",
    "        self.satiety = 100\n",
    "        \n",
    "class Dog(Animal, Carnivour):\n",
    "    def bark(self):\n",
    "        print('woof-woof')"
   ]
  },
  {
   "cell_type": "code",
   "execution_count": 2,
   "id": "f9570d72",
   "metadata": {},
   "outputs": [
    {
     "name": "stdout",
     "output_type": "stream",
     "text": [
      "woof-woof\n",
      "eating\n",
      "bye-bye\n"
     ]
    }
   ],
   "source": [
    "dog = Dog()\n",
    "dog.bark()\n",
    "dog.hunt()\n",
    "dog.die()"
   ]
  },
  {
   "cell_type": "code",
   "execution_count": 3,
   "id": "d293da4e",
   "metadata": {},
   "outputs": [],
   "source": [
    "# проблемы с множественными наследованиями\n",
    "class Animal:\n",
    "    def set_health(self, health):\n",
    "        print('set in animal')\n",
    "        \n",
    "class Carnivour(Animal):\n",
    "    def set_health(self, health):\n",
    "        print('set in carnivour')\n",
    "        \n",
    "class Mammal(Animal):\n",
    "    def set_health(self, health):\n",
    "        print('set in mammal')\n",
    "\n",
    "class Dog(Mammal, Carnivour):\n",
    "    pass"
   ]
  },
  {
   "cell_type": "code",
   "execution_count": 4,
   "id": "e0305016",
   "metadata": {},
   "outputs": [
    {
     "name": "stdout",
     "output_type": "stream",
     "text": [
      "set in mammal\n"
     ]
    }
   ],
   "source": [
    "dog = Dog()\n",
    "dog.set_health(10)"
   ]
  },
  {
   "cell_type": "code",
   "execution_count": 5,
   "id": "8d3fabd1",
   "metadata": {},
   "outputs": [],
   "source": [
    "class Animal:\n",
    "    def set_health(self, health):\n",
    "        print('set in animal')\n",
    "        \n",
    "class Carnivour(Animal):\n",
    "    def set_health(self, health):\n",
    "        print('set in carnivour')\n",
    "        \n",
    "class Mammal(Animal):\n",
    "    def set_health(self, health):\n",
    "        print('set in mammal')\n",
    "        \n",
    "class Dog(Mammal, Carnivour):\n",
    "    def set_health(self, health):\n",
    "        Mammal.set_health(self, health)\n",
    "        Carnivour.set_health(self, health)\n",
    "        Animal.set_health(self, health)\n",
    "        \n",
    "        print('set in dog')"
   ]
  },
  {
   "cell_type": "code",
   "execution_count": 6,
   "id": "95dfbbca",
   "metadata": {},
   "outputs": [
    {
     "name": "stdout",
     "output_type": "stream",
     "text": [
      "set in mammal\n",
      "set in carnivour\n",
      "set in animal\n",
      "set in dog\n"
     ]
    }
   ],
   "source": [
    "dog = Dog()\n",
    "dog.set_health(10)"
   ]
  },
  {
   "cell_type": "code",
   "execution_count": 7,
   "id": "d6a80bda",
   "metadata": {},
   "outputs": [],
   "source": [
    "class Animal:\n",
    "    def set_health(self, health):\n",
    "        print('set in animal')\n",
    "        \n",
    "class Carnivour(Animal):\n",
    "    def set_health(self, health):\n",
    "        Animal.set_health(self, health)\n",
    "        print('set in carnivour')\n",
    "        \n",
    "class Mammal(Animal):\n",
    "    def set_health(self, health):\n",
    "        Animal.set_health(self, health)\n",
    "        print('set in mammal')\n",
    "        \n",
    "class Dog(Mammal, Carnivour):\n",
    "    def set_health(self, health):\n",
    "        Mammal.set_health(self, health)\n",
    "        Carnivour.set_health(self, health)\n",
    "        \n",
    "        print('set in dog')"
   ]
  },
  {
   "cell_type": "code",
   "execution_count": 8,
   "id": "d690dd82",
   "metadata": {},
   "outputs": [
    {
     "name": "stdout",
     "output_type": "stream",
     "text": [
      "set in animal\n",
      "set in mammal\n",
      "set in animal\n",
      "set in carnivour\n",
      "set in dog\n"
     ]
    }
   ],
   "source": [
    "dog = Dog()\n",
    "dog.set_health(10)"
   ]
  },
  {
   "cell_type": "code",
   "execution_count": 9,
   "id": "ed547f98",
   "metadata": {},
   "outputs": [],
   "source": [
    "# это проблема рещается с помощью super\n",
    "class Animal:\n",
    "    def set_health(self, health):\n",
    "        print('set in animal')\n",
    "        \n",
    "class Carnivour(Animal):\n",
    "    def set_health(self, health):\n",
    "        super().set_health(health)\n",
    "        print('set in carnivour')\n",
    "        \n",
    "class Mammal(Animal):\n",
    "    def set_health(self, health):\n",
    "        super().set_health(health)\n",
    "        print('set in mammal')\n",
    "        \n",
    "class Dog(Mammal, Carnivour):\n",
    "    def set_health(self, health):\n",
    "        super().set_health(health)\n",
    "        #Mammal.set_health(self, health)\n",
    "        #Carnivour.set_health(self, health)\n",
    "        \n",
    "        print('set in dog')"
   ]
  },
  {
   "cell_type": "code",
   "execution_count": 10,
   "id": "0dbf7c77",
   "metadata": {},
   "outputs": [
    {
     "name": "stdout",
     "output_type": "stream",
     "text": [
      "set in animal\n",
      "set in carnivour\n",
      "set in mammal\n",
      "set in dog\n"
     ]
    }
   ],
   "source": [
    "dog = Dog()\n",
    "dog.set_health(10)"
   ]
  },
  {
   "cell_type": "code",
   "execution_count": 13,
   "id": "2d4d3e57",
   "metadata": {},
   "outputs": [],
   "source": [
    "class Animal:\n",
    "    def __init__(self):\n",
    "        self.health = 100\n",
    "        \n",
    "    def hit(self, damage):\n",
    "        self.health -= damage\n",
    "        \n",
    "class Carnivour(Animal):\n",
    "    def __init__(self):\n",
    "        super().__init__()\n",
    "        self.legs = 4"
   ]
  },
  {
   "cell_type": "code",
   "execution_count": 14,
   "id": "9cee5b1b",
   "metadata": {},
   "outputs": [
    {
     "name": "stdout",
     "output_type": "stream",
     "text": [
      "90\n"
     ]
    }
   ],
   "source": [
    "c = Carnivour()\n",
    "c.hit(10)\n",
    "print(c.health)"
   ]
  },
  {
   "cell_type": "code",
   "execution_count": null,
   "id": "78aa1785",
   "metadata": {},
   "outputs": [],
   "source": []
  }
 ],
 "metadata": {
  "kernelspec": {
   "display_name": "Python 3 (ipykernel)",
   "language": "python",
   "name": "python3"
  },
  "language_info": {
   "codemirror_mode": {
    "name": "ipython",
    "version": 3
   },
   "file_extension": ".py",
   "mimetype": "text/x-python",
   "name": "python",
   "nbconvert_exporter": "python",
   "pygments_lexer": "ipython3",
   "version": "3.10.9"
  }
 },
 "nbformat": 4,
 "nbformat_minor": 5
}
